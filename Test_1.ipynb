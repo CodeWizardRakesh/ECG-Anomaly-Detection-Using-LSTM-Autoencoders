{
  "cells": [
    {
      "cell_type": "code",
      "execution_count": 1,
      "metadata": {
        "colab": {
          "base_uri": "https://localhost:8080/"
        },
        "id": "broRWMfoXMYF",
        "outputId": "d34f7376-0ba4-485a-fe88-a99bd79e03f5"
      },
      "outputs": [
        {
          "name": "stdout",
          "output_type": "stream",
          "text": [
            "Sun Oct 13 14:58:45 2024       \n",
            "+-----------------------------------------------------------------------------------------+\n",
            "| NVIDIA-SMI 552.44                 Driver Version: 552.44         CUDA Version: 12.4     |\n",
            "|-----------------------------------------+------------------------+----------------------+\n",
            "| GPU  Name                     TCC/WDDM  | Bus-Id          Disp.A | Volatile Uncorr. ECC |\n",
            "| Fan  Temp   Perf          Pwr:Usage/Cap |           Memory-Usage | GPU-Util  Compute M. |\n",
            "|                                         |                        |               MIG M. |\n",
            "|=========================================+========================+======================|\n",
            "|   0  NVIDIA GeForce RTX 3050 ...  WDDM  |   00000000:01:00.0  On |                  N/A |\n",
            "| N/A   50C    P8              6W /   57W |     853MiB /   4096MiB |     34%      Default |\n",
            "|                                         |                        |                  N/A |\n",
            "+-----------------------------------------+------------------------+----------------------+\n",
            "                                                                                         \n",
            "+-----------------------------------------------------------------------------------------+\n",
            "| Processes:                                                                              |\n",
            "|  GPU   GI   CI        PID   Type   Process name                              GPU Memory |\n",
            "|        ID   ID                                                               Usage      |\n",
            "|=========================================================================================|\n",
            "|    0   N/A  N/A      1676    C+G   ...7.0_x64__cv1g1gvanyjgm\\WhatsApp.exe      N/A      |\n",
            "|    0   N/A  N/A      3896    C+G   ...t.LockApp_cw5n1h2txyewy\\LockApp.exe      N/A      |\n",
            "|    0   N/A  N/A     10500    C+G   ...2txyewy\\StartMenuExperienceHost.exe      N/A      |\n",
            "|    0   N/A  N/A     13664    C+G   ...les\\Microsoft OneDrive\\OneDrive.exe      N/A      |\n",
            "|    0   N/A  N/A     14452    C+G   ...on\\129.0.2792.79\\msedgewebview2.exe      N/A      |\n",
            "|    0   N/A  N/A     14924    C+G   C:\\Windows\\explorer.exe                     N/A      |\n",
            "|    0   N/A  N/A     15016    C+G   ...x64__qmba6cd70vzyy\\ArmouryCrate.exe      N/A      |\n",
            "|    0   N/A  N/A     15156    C+G   ...CBS_cw5n1h2txyewy\\TextInputHost.exe      N/A      |\n",
            "|    0   N/A  N/A     15444    C+G   ...s\\Toolbox\\bin\\jetbrains-toolbox.exe      N/A      |\n",
            "|    0   N/A  N/A     16300    C+G   ...66.0_x64__zpdnekdrzrea0\\Spotify.exe      N/A      |\n",
            "|    0   N/A  N/A     17004    C+G   ...5n1h2txyewy\\ShellExperienceHost.exe      N/A      |\n",
            "|    0   N/A  N/A     18620    C+G   ...nr4m\\radeonsoftware\\AMDRSSrcExt.exe      N/A      |\n",
            "|    0   N/A  N/A     19376    C+G   ...siveControlPanel\\SystemSettings.exe      N/A      |\n",
            "|    0   N/A  N/A     19848    C+G   ...nt.CBS_cw5n1h2txyewy\\SearchHost.exe      N/A      |\n",
            "|    0   N/A  N/A     21212    C+G   ...ekyb3d8bbwe\\PhoneExperienceHost.exe      N/A      |\n",
            "|    0   N/A  N/A     21644    C+G   ...Brave-Browser\\Application\\brave.exe      N/A      |\n",
            "|    0   N/A  N/A     24432    C+G   ...crosoft\\Edge\\Application\\msedge.exe      N/A      |\n",
            "|    0   N/A  N/A     25728    C+G   ...m\\radeonsoftware\\RadeonSoftware.exe      N/A      |\n",
            "|    0   N/A  N/A     27280    C+G   ...US\\ArmouryDevice\\asus_framework.exe      N/A      |\n",
            "|    0   N/A  N/A     28308    C+G   ...am Files\\Microsoft VS Code\\Code.exe      N/A      |\n",
            "+-----------------------------------------------------------------------------------------+\n"
          ]
        }
      ],
      "source": [
        "!nvidia-smi"
      ]
    },
    {
      "cell_type": "code",
      "execution_count": null,
      "metadata": {
        "colab": {
          "base_uri": "https://localhost:8080/"
        },
        "id": "AhVTznpJXQGY",
        "outputId": "9de94718-4053-452b-fe06-ec5f876c3d6f"
      },
      "outputs": [
        {
          "name": "stdout",
          "output_type": "stream",
          "text": [
            "\u001b[31mERROR: Could not find a version that satisfies the requirement arff2pandas (from versions: none)\u001b[0m\u001b[31m\n",
            "\u001b[0m\u001b[31mERROR: No matching distribution found for arff2pandas\u001b[0m\u001b[31m\n",
            "\u001b[0m"
          ]
        }
      ],
      "source": [
        "# !pip install arff2pandas"
      ]
    },
    {
      "cell_type": "code",
      "execution_count": 2,
      "metadata": {
        "id": "ZdVnUelxX0OG"
      },
      "outputs": [
        {
          "name": "stderr",
          "output_type": "stream",
          "text": [
            "WARNING: pip is being invoked by an old script wrapper. This will fail in a future version of pip.\n",
            "Please see https://github.com/pypa/pip/issues/5599 for advice on fixing the underlying issue.\n",
            "To avoid this problem you can invoke Python with '-m pip' instead of running pip directly.\n"
          ]
        }
      ],
      "source": [
        "!pip install -q -U watermark"
      ]
    },
    {
      "cell_type": "code",
      "execution_count": 6,
      "metadata": {
        "colab": {
          "base_uri": "https://localhost:8080/"
        },
        "id": "WeBkm6-pX9tI",
        "outputId": "70bc7221-2d08-4778-a153-32b5688b1ae9"
      },
      "outputs": [
        {
          "name": "stdout",
          "output_type": "stream",
          "text": [
            "Defaulting to user installation because normal site-packages is not writeable"
          ]
        },
        {
          "name": "stderr",
          "output_type": "stream",
          "text": [
            "WARNING: pip is being invoked by an old script wrapper. This will fail in a future version of pip.\n",
            "Please see https://github.com/pypa/pip/issues/5599 for advice on fixing the underlying issue.\n",
            "To avoid this problem you can invoke Python with '-m pip' instead of running pip directly.\n"
          ]
        },
        {
          "name": "stdout",
          "output_type": "stream",
          "text": [
            "\n",
            "Requirement already satisfied: pandas in c:\\users\\asus\\appdata\\roaming\\python\\python38\\site-packages (2.0.3)\n",
            "Requirement already satisfied: python-dateutil>=2.8.2 in c:\\users\\asus\\appdata\\roaming\\python\\python38\\site-packages (from pandas) (2.8.2)\n",
            "Requirement already satisfied: pytz>=2020.1 in c:\\users\\asus\\appdata\\roaming\\python\\python38\\site-packages (from pandas) (2023.3.post1)\n",
            "Requirement already satisfied: tzdata>=2022.1 in c:\\users\\asus\\appdata\\roaming\\python\\python38\\site-packages (from pandas) (2023.3)\n",
            "Requirement already satisfied: numpy>=1.20.3 in c:\\users\\asus\\appdata\\roaming\\python\\python38\\site-packages (from pandas) (1.24.4)\n",
            "Requirement already satisfied: six>=1.5 in c:\\users\\asus\\appdata\\roaming\\python\\python38\\site-packages (from python-dateutil>=2.8.2->pandas) (1.16.0)\n"
          ]
        }
      ],
      "source": [
        "!pip install pandas"
      ]
    },
    {
      "cell_type": "code",
      "execution_count": 4,
      "metadata": {
        "colab": {
          "base_uri": "https://localhost:8080/"
        },
        "id": "siNwBpR7YHk2",
        "outputId": "e1a186d1-c1f6-4bbe-fac4-13d3f34f0dea"
      },
      "outputs": [
        {
          "ename": "ModuleNotFoundError",
          "evalue": "No module named 'watermark'",
          "output_type": "error",
          "traceback": [
            "\u001b[1;31m---------------------------------------------------------------------------\u001b[0m",
            "\u001b[1;31mModuleNotFoundError\u001b[0m                       Traceback (most recent call last)",
            "\u001b[1;32md:\\Sem5\\Projects\\ECG anomaly detection\\Test_1.ipynb Cell 5\u001b[0m line \u001b[0;36m1\n\u001b[1;32m----> <a href='vscode-notebook-cell:/d%3A/Sem5/Projects/ECG%20anomaly%20detection/Test_1.ipynb#W4sZmlsZQ%3D%3D?line=0'>1</a>\u001b[0m get_ipython()\u001b[39m.\u001b[39;49mrun_line_magic(\u001b[39m'\u001b[39;49m\u001b[39mreload_ext\u001b[39;49m\u001b[39m'\u001b[39;49m, \u001b[39m'\u001b[39;49m\u001b[39mwatermark\u001b[39;49m\u001b[39m'\u001b[39;49m)\n\u001b[0;32m      <a href='vscode-notebook-cell:/d%3A/Sem5/Projects/ECG%20anomaly%20detection/Test_1.ipynb#W4sZmlsZQ%3D%3D?line=1'>2</a>\u001b[0m get_ipython()\u001b[39m.\u001b[39mrun_line_magic(\u001b[39m'\u001b[39m\u001b[39mwatermark\u001b[39m\u001b[39m'\u001b[39m, \u001b[39m'\u001b[39m\u001b[39m-v -p numpy,pandas,torch,arff2pandas\u001b[39m\u001b[39m'\u001b[39m)\n",
            "File \u001b[1;32m~\\AppData\\Roaming\\Python\\Python311\\site-packages\\IPython\\core\\interactiveshell.py:2432\u001b[0m, in \u001b[0;36mInteractiveShell.run_line_magic\u001b[1;34m(self, magic_name, line, _stack_depth)\u001b[0m\n\u001b[0;32m   2430\u001b[0m     kwargs[\u001b[39m'\u001b[39m\u001b[39mlocal_ns\u001b[39m\u001b[39m'\u001b[39m] \u001b[39m=\u001b[39m \u001b[39mself\u001b[39m\u001b[39m.\u001b[39mget_local_scope(stack_depth)\n\u001b[0;32m   2431\u001b[0m \u001b[39mwith\u001b[39;00m \u001b[39mself\u001b[39m\u001b[39m.\u001b[39mbuiltin_trap:\n\u001b[1;32m-> 2432\u001b[0m     result \u001b[39m=\u001b[39m fn(\u001b[39m*\u001b[39;49margs, \u001b[39m*\u001b[39;49m\u001b[39m*\u001b[39;49mkwargs)\n\u001b[0;32m   2434\u001b[0m \u001b[39m# The code below prevents the output from being displayed\u001b[39;00m\n\u001b[0;32m   2435\u001b[0m \u001b[39m# when using magics with decorator @output_can_be_silenced\u001b[39;00m\n\u001b[0;32m   2436\u001b[0m \u001b[39m# when the last Python token in the expression is a ';'.\u001b[39;00m\n\u001b[0;32m   2437\u001b[0m \u001b[39mif\u001b[39;00m \u001b[39mgetattr\u001b[39m(fn, magic\u001b[39m.\u001b[39mMAGIC_OUTPUT_CAN_BE_SILENCED, \u001b[39mFalse\u001b[39;00m):\n",
            "File \u001b[1;32m~\\AppData\\Roaming\\Python\\Python311\\site-packages\\IPython\\core\\magics\\extension.py:63\u001b[0m, in \u001b[0;36mExtensionMagics.reload_ext\u001b[1;34m(self, module_str)\u001b[0m\n\u001b[0;32m     61\u001b[0m \u001b[39mif\u001b[39;00m \u001b[39mnot\u001b[39;00m module_str:\n\u001b[0;32m     62\u001b[0m     \u001b[39mraise\u001b[39;00m UsageError(\u001b[39m'\u001b[39m\u001b[39mMissing module name.\u001b[39m\u001b[39m'\u001b[39m)\n\u001b[1;32m---> 63\u001b[0m \u001b[39mself\u001b[39;49m\u001b[39m.\u001b[39;49mshell\u001b[39m.\u001b[39;49mextension_manager\u001b[39m.\u001b[39;49mreload_extension(module_str)\n",
            "File \u001b[1;32m~\\AppData\\Roaming\\Python\\Python311\\site-packages\\IPython\\core\\extensions.py:141\u001b[0m, in \u001b[0;36mExtensionManager.reload_extension\u001b[1;34m(self, module_str)\u001b[0m\n\u001b[0;32m    139\u001b[0m         \u001b[39mself\u001b[39m\u001b[39m.\u001b[39mloaded\u001b[39m.\u001b[39madd(module_str)\n\u001b[0;32m    140\u001b[0m \u001b[39melse\u001b[39;00m:\n\u001b[1;32m--> 141\u001b[0m     \u001b[39mself\u001b[39;49m\u001b[39m.\u001b[39;49mload_extension(module_str)\n",
            "File \u001b[1;32m~\\AppData\\Roaming\\Python\\Python311\\site-packages\\IPython\\core\\extensions.py:76\u001b[0m, in \u001b[0;36mExtensionManager.load_extension\u001b[1;34m(self, module_str)\u001b[0m\n\u001b[0;32m     69\u001b[0m \u001b[39m\u001b[39m\u001b[39m\"\"\"Load an IPython extension by its module name.\u001b[39;00m\n\u001b[0;32m     70\u001b[0m \n\u001b[0;32m     71\u001b[0m \u001b[39mReturns the string \"already loaded\" if the extension is already loaded,\u001b[39;00m\n\u001b[0;32m     72\u001b[0m \u001b[39m\"no load function\" if the module doesn't have a load_ipython_extension\u001b[39;00m\n\u001b[0;32m     73\u001b[0m \u001b[39mfunction, or None if it succeeded.\u001b[39;00m\n\u001b[0;32m     74\u001b[0m \u001b[39m\"\"\"\u001b[39;00m\n\u001b[0;32m     75\u001b[0m \u001b[39mtry\u001b[39;00m:\n\u001b[1;32m---> 76\u001b[0m     \u001b[39mreturn\u001b[39;00m \u001b[39mself\u001b[39;49m\u001b[39m.\u001b[39;49m_load_extension(module_str)\n\u001b[0;32m     77\u001b[0m \u001b[39mexcept\u001b[39;00m \u001b[39mModuleNotFoundError\u001b[39;00m:\n\u001b[0;32m     78\u001b[0m     \u001b[39mif\u001b[39;00m module_str \u001b[39min\u001b[39;00m BUILTINS_EXTS:\n",
            "File \u001b[1;32m~\\AppData\\Roaming\\Python\\Python311\\site-packages\\IPython\\core\\extensions.py:91\u001b[0m, in \u001b[0;36mExtensionManager._load_extension\u001b[1;34m(self, module_str)\u001b[0m\n\u001b[0;32m     89\u001b[0m \u001b[39mwith\u001b[39;00m \u001b[39mself\u001b[39m\u001b[39m.\u001b[39mshell\u001b[39m.\u001b[39mbuiltin_trap:\n\u001b[0;32m     90\u001b[0m     \u001b[39mif\u001b[39;00m module_str \u001b[39mnot\u001b[39;00m \u001b[39min\u001b[39;00m sys\u001b[39m.\u001b[39mmodules:\n\u001b[1;32m---> 91\u001b[0m         mod \u001b[39m=\u001b[39m import_module(module_str)\n\u001b[0;32m     92\u001b[0m     mod \u001b[39m=\u001b[39m sys\u001b[39m.\u001b[39mmodules[module_str]\n\u001b[0;32m     93\u001b[0m     \u001b[39mif\u001b[39;00m \u001b[39mself\u001b[39m\u001b[39m.\u001b[39m_call_load_ipython_extension(mod):\n",
            "File \u001b[1;32mc:\\Users\\ASUS\\AppData\\Local\\Programs\\Python\\Python311\\Lib\\importlib\\__init__.py:126\u001b[0m, in \u001b[0;36mimport_module\u001b[1;34m(name, package)\u001b[0m\n\u001b[0;32m    124\u001b[0m             \u001b[39mbreak\u001b[39;00m\n\u001b[0;32m    125\u001b[0m         level \u001b[39m+\u001b[39m\u001b[39m=\u001b[39m \u001b[39m1\u001b[39m\n\u001b[1;32m--> 126\u001b[0m \u001b[39mreturn\u001b[39;00m _bootstrap\u001b[39m.\u001b[39;49m_gcd_import(name[level:], package, level)\n",
            "File \u001b[1;32m<frozen importlib._bootstrap>:1204\u001b[0m, in \u001b[0;36m_gcd_import\u001b[1;34m(name, package, level)\u001b[0m\n",
            "File \u001b[1;32m<frozen importlib._bootstrap>:1176\u001b[0m, in \u001b[0;36m_find_and_load\u001b[1;34m(name, import_)\u001b[0m\n",
            "File \u001b[1;32m<frozen importlib._bootstrap>:1140\u001b[0m, in \u001b[0;36m_find_and_load_unlocked\u001b[1;34m(name, import_)\u001b[0m\n",
            "\u001b[1;31mModuleNotFoundError\u001b[0m: No module named 'watermark'"
          ]
        }
      ],
      "source": [
        "%reload_ext watermark\n",
        "%watermark -v -p numpy,pandas,torch,arff2pandas"
      ]
    },
    {
      "cell_type": "code",
      "execution_count": null,
      "metadata": {
        "colab": {
          "base_uri": "https://localhost:8080/",
          "height": 304
        },
        "id": "vGzZvLz8YkSj",
        "outputId": "e196833e-81ef-4383-ae41-ec785382b87a"
      },
      "outputs": [],
      "source": [
        "# from google.colab import drive\n",
        "# drive.mount('/content/drive')"
      ]
    },
    {
      "cell_type": "code",
      "execution_count": 7,
      "metadata": {
        "colab": {
          "base_uri": "https://localhost:8080/"
        },
        "id": "HI0XtywKYME8",
        "outputId": "8ee5169f-c003-44c3-c8c5-9dac71921be1"
      },
      "outputs": [
        {
          "ename": "ModuleNotFoundError",
          "evalue": "No module named 'pandas'",
          "output_type": "error",
          "traceback": [
            "\u001b[1;31m---------------------------------------------------------------------------\u001b[0m",
            "\u001b[1;31mModuleNotFoundError\u001b[0m                       Traceback (most recent call last)",
            "\u001b[1;32md:\\Sem5\\Projects\\ECG anomaly detection\\Test_1.ipynb Cell 7\u001b[0m line \u001b[0;36m5\n\u001b[0;32m      <a href='vscode-notebook-cell:/d%3A/Sem5/Projects/ECG%20anomaly%20detection/Test_1.ipynb#W6sZmlsZQ%3D%3D?line=2'>3</a>\u001b[0m \u001b[39mimport\u001b[39;00m \u001b[39mcopy\u001b[39;00m\n\u001b[0;32m      <a href='vscode-notebook-cell:/d%3A/Sem5/Projects/ECG%20anomaly%20detection/Test_1.ipynb#W6sZmlsZQ%3D%3D?line=3'>4</a>\u001b[0m \u001b[39mimport\u001b[39;00m \u001b[39mnumpy\u001b[39;00m \u001b[39mas\u001b[39;00m \u001b[39mnp\u001b[39;00m\n\u001b[1;32m----> <a href='vscode-notebook-cell:/d%3A/Sem5/Projects/ECG%20anomaly%20detection/Test_1.ipynb#W6sZmlsZQ%3D%3D?line=4'>5</a>\u001b[0m \u001b[39mimport\u001b[39;00m \u001b[39mpandas\u001b[39;00m \u001b[39mas\u001b[39;00m \u001b[39mpd\u001b[39;00m\n\u001b[0;32m      <a href='vscode-notebook-cell:/d%3A/Sem5/Projects/ECG%20anomaly%20detection/Test_1.ipynb#W6sZmlsZQ%3D%3D?line=5'>6</a>\u001b[0m \u001b[39mimport\u001b[39;00m \u001b[39mseaborn\u001b[39;00m \u001b[39mas\u001b[39;00m \u001b[39msns\u001b[39;00m\n\u001b[0;32m      <a href='vscode-notebook-cell:/d%3A/Sem5/Projects/ECG%20anomaly%20detection/Test_1.ipynb#W6sZmlsZQ%3D%3D?line=6'>7</a>\u001b[0m \u001b[39mfrom\u001b[39;00m \u001b[39mpylab\u001b[39;00m \u001b[39mimport\u001b[39;00m rcParams\n",
            "\u001b[1;31mModuleNotFoundError\u001b[0m: No module named 'pandas'"
          ]
        }
      ],
      "source": [
        "import torch\n",
        "\n",
        "import copy\n",
        "import numpy as np\n",
        "import pandas as pd\n",
        "import seaborn as sns\n",
        "from pylab import rcParams\n",
        "import matplotlib.pyplot as plt\n",
        "from matplotlib import rc\n",
        "from sklearn.model_selection import train_test_split\n",
        "\n",
        "from torch import nn, optim\n",
        "\n",
        "import torch.nn.functional as F\n",
        "#from arff2pandas import a2p\n",
        "from scipy.io import arff\n",
        "\n",
        "%matplotlib inline\n",
        "%config InlineBackend.figure_format='retina'\n",
        "\n",
        "sns.set(style='whitegrid', palette='muted', font_scale=1.2)\n",
        "\n",
        "HAPPY_COLORS_PALETTE = [\"#01BEFE\", \"#FFDD00\", \"#FF7D00\", \"#FF006D\", \"#ADFF02\", \"#8F00FF\"]\n",
        "\n",
        "sns.set_palette(sns.color_palette(HAPPY_COLORS_PALETTE))\n",
        "\n",
        "rcParams['figure.figsize'] = 12, 8\n",
        "\n",
        "RANDOM_SEED = 42\n",
        "np.random.seed(RANDOM_SEED)\n",
        "torch.manual_seed(RANDOM_SEED)"
      ]
    },
    {
      "cell_type": "markdown",
      "metadata": {
        "id": "wU6aoLU7YTxt"
      },
      "source": [
        "**DATA**"
      ]
    },
    {
      "cell_type": "code",
      "execution_count": null,
      "metadata": {
        "id": "fzaMIKIgaKEy"
      },
      "outputs": [],
      "source": [
        "#!gdown --id 16MIleqoIr1vYxlGk4GKnGmrsCPuWkkpT"
      ]
    },
    {
      "cell_type": "code",
      "execution_count": null,
      "metadata": {
        "id": "2cbBpTXsXvKj"
      },
      "outputs": [],
      "source": [
        "# !unzip -qq /content/drive/MyDrive/Pattern_matching_project/Data/ECG5000.zip -d /content/drive/MyDrive/Pattern_matching_project/Data/ECG5000_unzipped"
      ]
    },
    {
      "cell_type": "code",
      "execution_count": null,
      "metadata": {
        "id": "_OBNeh6sZKPH"
      },
      "outputs": [],
      "source": [
        "# with open('/content/drive/MyDrive/Pattern_matching_project/Data/ECG5000_unzipped/ECG5000_TRAIN.arff') as f:\n",
        "#   train = a2p.load(f)\n",
        "\n",
        "# with open('/content/drive/MyDrive/Pattern_matching_project/Data/ECG5000_unzipped/ECG5000_TRAIN.arff') as f:\n",
        "#   test = a2p.load(f)"
      ]
    },
    {
      "cell_type": "code",
      "execution_count": null,
      "metadata": {
        "id": "4BBIpDNua3s2"
      },
      "outputs": [],
      "source": [
        "train_data, meta = arff.loadarff(\"/content/drive/MyDrive/Pattern_matching_project/Data/ECG5000_unzipped/ECG5000_TRAIN.arff\")\n",
        "test_data, meta1 = arff.loadarff(\"/content/drive/MyDrive/Pattern_matching_project/Data/ECG5000_unzipped/ECG5000_TEST.arff\")"
      ]
    },
    {
      "cell_type": "code",
      "execution_count": null,
      "metadata": {
        "colab": {
          "base_uri": "https://localhost:8080/"
        },
        "id": "d-dBh2zvbY3E",
        "outputId": "69aa212d-7e93-4ead-b96d-adb76849fa95"
      },
      "outputs": [
        {
          "data": {
            "text/plain": [
              "(5000, 141)"
            ]
          },
          "execution_count": 13,
          "metadata": {},
          "output_type": "execute_result"
        }
      ],
      "source": [
        "import pandas as pd\n",
        "\n",
        "train = pd.DataFrame(train_data)\n",
        "test = pd.DataFrame(test_data)\n",
        "# Use pd.concat instead of append to combine the DataFrames\n",
        "df = pd.concat([train, test], ignore_index=True)\n",
        "df = df.sample(frac=1.0)\n",
        "df.shape"
      ]
    },
    {
      "cell_type": "code",
      "execution_count": null,
      "metadata": {
        "colab": {
          "base_uri": "https://localhost:8080/",
          "height": 255
        },
        "id": "3lat7lCyb8zN",
        "outputId": "52fa5064-e2f2-48c0-91df-9324c0c60381"
      },
      "outputs": [
        {
          "data": {
            "application/vnd.google.colaboratory.intrinsic+json": {
              "type": "dataframe",
              "variable_name": "df"
            },
            "text/html": [
              "\n",
              "  <div id=\"df-42a2fa96-a6f1-42f5-b5e6-03d2acb59948\" class=\"colab-df-container\">\n",
              "    <div>\n",
              "<style scoped>\n",
              "    .dataframe tbody tr th:only-of-type {\n",
              "        vertical-align: middle;\n",
              "    }\n",
              "\n",
              "    .dataframe tbody tr th {\n",
              "        vertical-align: top;\n",
              "    }\n",
              "\n",
              "    .dataframe thead th {\n",
              "        text-align: right;\n",
              "    }\n",
              "</style>\n",
              "<table border=\"1\" class=\"dataframe\">\n",
              "  <thead>\n",
              "    <tr style=\"text-align: right;\">\n",
              "      <th></th>\n",
              "      <th>att1</th>\n",
              "      <th>att2</th>\n",
              "      <th>att3</th>\n",
              "      <th>att4</th>\n",
              "      <th>att5</th>\n",
              "      <th>att6</th>\n",
              "      <th>att7</th>\n",
              "      <th>att8</th>\n",
              "      <th>att9</th>\n",
              "      <th>att10</th>\n",
              "      <th>...</th>\n",
              "      <th>att132</th>\n",
              "      <th>att133</th>\n",
              "      <th>att134</th>\n",
              "      <th>att135</th>\n",
              "      <th>att136</th>\n",
              "      <th>att137</th>\n",
              "      <th>att138</th>\n",
              "      <th>att139</th>\n",
              "      <th>att140</th>\n",
              "      <th>target</th>\n",
              "    </tr>\n",
              "  </thead>\n",
              "  <tbody>\n",
              "    <tr>\n",
              "      <th>1501</th>\n",
              "      <td>1.469756</td>\n",
              "      <td>-1.048520</td>\n",
              "      <td>-3.394356</td>\n",
              "      <td>-4.254399</td>\n",
              "      <td>-4.162834</td>\n",
              "      <td>-3.822570</td>\n",
              "      <td>-3.003609</td>\n",
              "      <td>-1.799773</td>\n",
              "      <td>-1.500033</td>\n",
              "      <td>-1.025095</td>\n",
              "      <td>...</td>\n",
              "      <td>0.945178</td>\n",
              "      <td>1.275588</td>\n",
              "      <td>1.617218</td>\n",
              "      <td>1.580279</td>\n",
              "      <td>1.306195</td>\n",
              "      <td>1.351674</td>\n",
              "      <td>1.915517</td>\n",
              "      <td>1.672103</td>\n",
              "      <td>-1.039932</td>\n",
              "      <td>b'1'</td>\n",
              "    </tr>\n",
              "    <tr>\n",
              "      <th>2586</th>\n",
              "      <td>-1.998602</td>\n",
              "      <td>-3.770552</td>\n",
              "      <td>-4.267091</td>\n",
              "      <td>-4.256133</td>\n",
              "      <td>-3.515288</td>\n",
              "      <td>-2.554540</td>\n",
              "      <td>-1.699639</td>\n",
              "      <td>-1.566366</td>\n",
              "      <td>-1.038815</td>\n",
              "      <td>-0.425483</td>\n",
              "      <td>...</td>\n",
              "      <td>1.008577</td>\n",
              "      <td>1.024698</td>\n",
              "      <td>1.051141</td>\n",
              "      <td>1.015352</td>\n",
              "      <td>0.988475</td>\n",
              "      <td>1.050191</td>\n",
              "      <td>1.089509</td>\n",
              "      <td>1.465382</td>\n",
              "      <td>0.799517</td>\n",
              "      <td>b'1'</td>\n",
              "    </tr>\n",
              "    <tr>\n",
              "      <th>2653</th>\n",
              "      <td>-1.187772</td>\n",
              "      <td>-3.365038</td>\n",
              "      <td>-3.695653</td>\n",
              "      <td>-4.094781</td>\n",
              "      <td>-3.992549</td>\n",
              "      <td>-3.425381</td>\n",
              "      <td>-2.057643</td>\n",
              "      <td>-1.277729</td>\n",
              "      <td>-1.307397</td>\n",
              "      <td>-0.623098</td>\n",
              "      <td>...</td>\n",
              "      <td>1.085007</td>\n",
              "      <td>1.467196</td>\n",
              "      <td>1.413850</td>\n",
              "      <td>1.283822</td>\n",
              "      <td>0.923126</td>\n",
              "      <td>0.759235</td>\n",
              "      <td>0.932364</td>\n",
              "      <td>1.216265</td>\n",
              "      <td>-0.824489</td>\n",
              "      <td>b'1'</td>\n",
              "    </tr>\n",
              "    <tr>\n",
              "      <th>1055</th>\n",
              "      <td>0.604969</td>\n",
              "      <td>-1.671363</td>\n",
              "      <td>-3.236131</td>\n",
              "      <td>-3.966465</td>\n",
              "      <td>-4.067820</td>\n",
              "      <td>-3.551897</td>\n",
              "      <td>-2.582864</td>\n",
              "      <td>-1.804755</td>\n",
              "      <td>-1.688151</td>\n",
              "      <td>-1.025897</td>\n",
              "      <td>...</td>\n",
              "      <td>0.545222</td>\n",
              "      <td>0.649363</td>\n",
              "      <td>0.986846</td>\n",
              "      <td>1.234495</td>\n",
              "      <td>1.280039</td>\n",
              "      <td>1.215985</td>\n",
              "      <td>1.617971</td>\n",
              "      <td>2.196543</td>\n",
              "      <td>0.023843</td>\n",
              "      <td>b'1'</td>\n",
              "    </tr>\n",
              "    <tr>\n",
              "      <th>705</th>\n",
              "      <td>-1.197203</td>\n",
              "      <td>-3.270123</td>\n",
              "      <td>-3.778723</td>\n",
              "      <td>-3.977574</td>\n",
              "      <td>-3.405060</td>\n",
              "      <td>-2.392634</td>\n",
              "      <td>-1.726322</td>\n",
              "      <td>-1.572748</td>\n",
              "      <td>-0.920075</td>\n",
              "      <td>-0.388731</td>\n",
              "      <td>...</td>\n",
              "      <td>0.828168</td>\n",
              "      <td>0.914338</td>\n",
              "      <td>1.063077</td>\n",
              "      <td>1.393479</td>\n",
              "      <td>1.469756</td>\n",
              "      <td>1.392281</td>\n",
              "      <td>1.144732</td>\n",
              "      <td>1.668263</td>\n",
              "      <td>1.734676</td>\n",
              "      <td>b'1'</td>\n",
              "    </tr>\n",
              "  </tbody>\n",
              "</table>\n",
              "<p>5 rows × 141 columns</p>\n",
              "</div>\n",
              "    <div class=\"colab-df-buttons\">\n",
              "\n",
              "  <div class=\"colab-df-container\">\n",
              "    <button class=\"colab-df-convert\" onclick=\"convertToInteractive('df-42a2fa96-a6f1-42f5-b5e6-03d2acb59948')\"\n",
              "            title=\"Convert this dataframe to an interactive table.\"\n",
              "            style=\"display:none;\">\n",
              "\n",
              "  <svg xmlns=\"http://www.w3.org/2000/svg\" height=\"24px\" viewBox=\"0 -960 960 960\">\n",
              "    <path d=\"M120-120v-720h720v720H120Zm60-500h600v-160H180v160Zm220 220h160v-160H400v160Zm0 220h160v-160H400v160ZM180-400h160v-160H180v160Zm440 0h160v-160H620v160ZM180-180h160v-160H180v160Zm440 0h160v-160H620v160Z\"/>\n",
              "  </svg>\n",
              "    </button>\n",
              "\n",
              "  <style>\n",
              "    .colab-df-container {\n",
              "      display:flex;\n",
              "      gap: 12px;\n",
              "    }\n",
              "\n",
              "    .colab-df-convert {\n",
              "      background-color: #E8F0FE;\n",
              "      border: none;\n",
              "      border-radius: 50%;\n",
              "      cursor: pointer;\n",
              "      display: none;\n",
              "      fill: #1967D2;\n",
              "      height: 32px;\n",
              "      padding: 0 0 0 0;\n",
              "      width: 32px;\n",
              "    }\n",
              "\n",
              "    .colab-df-convert:hover {\n",
              "      background-color: #E2EBFA;\n",
              "      box-shadow: 0px 1px 2px rgba(60, 64, 67, 0.3), 0px 1px 3px 1px rgba(60, 64, 67, 0.15);\n",
              "      fill: #174EA6;\n",
              "    }\n",
              "\n",
              "    .colab-df-buttons div {\n",
              "      margin-bottom: 4px;\n",
              "    }\n",
              "\n",
              "    [theme=dark] .colab-df-convert {\n",
              "      background-color: #3B4455;\n",
              "      fill: #D2E3FC;\n",
              "    }\n",
              "\n",
              "    [theme=dark] .colab-df-convert:hover {\n",
              "      background-color: #434B5C;\n",
              "      box-shadow: 0px 1px 3px 1px rgba(0, 0, 0, 0.15);\n",
              "      filter: drop-shadow(0px 1px 2px rgba(0, 0, 0, 0.3));\n",
              "      fill: #FFFFFF;\n",
              "    }\n",
              "  </style>\n",
              "\n",
              "    <script>\n",
              "      const buttonEl =\n",
              "        document.querySelector('#df-42a2fa96-a6f1-42f5-b5e6-03d2acb59948 button.colab-df-convert');\n",
              "      buttonEl.style.display =\n",
              "        google.colab.kernel.accessAllowed ? 'block' : 'none';\n",
              "\n",
              "      async function convertToInteractive(key) {\n",
              "        const element = document.querySelector('#df-42a2fa96-a6f1-42f5-b5e6-03d2acb59948');\n",
              "        const dataTable =\n",
              "          await google.colab.kernel.invokeFunction('convertToInteractive',\n",
              "                                                    [key], {});\n",
              "        if (!dataTable) return;\n",
              "\n",
              "        const docLinkHtml = 'Like what you see? Visit the ' +\n",
              "          '<a target=\"_blank\" href=https://colab.research.google.com/notebooks/data_table.ipynb>data table notebook</a>'\n",
              "          + ' to learn more about interactive tables.';\n",
              "        element.innerHTML = '';\n",
              "        dataTable['output_type'] = 'display_data';\n",
              "        await google.colab.output.renderOutput(dataTable, element);\n",
              "        const docLink = document.createElement('div');\n",
              "        docLink.innerHTML = docLinkHtml;\n",
              "        element.appendChild(docLink);\n",
              "      }\n",
              "    </script>\n",
              "  </div>\n",
              "\n",
              "\n",
              "<div id=\"df-8b2e6057-e83c-4df1-8eb1-ee263cc2fbe5\">\n",
              "  <button class=\"colab-df-quickchart\" onclick=\"quickchart('df-8b2e6057-e83c-4df1-8eb1-ee263cc2fbe5')\"\n",
              "            title=\"Suggest charts\"\n",
              "            style=\"display:none;\">\n",
              "\n",
              "<svg xmlns=\"http://www.w3.org/2000/svg\" height=\"24px\"viewBox=\"0 0 24 24\"\n",
              "     width=\"24px\">\n",
              "    <g>\n",
              "        <path d=\"M19 3H5c-1.1 0-2 .9-2 2v14c0 1.1.9 2 2 2h14c1.1 0 2-.9 2-2V5c0-1.1-.9-2-2-2zM9 17H7v-7h2v7zm4 0h-2V7h2v10zm4 0h-2v-4h2v4z\"/>\n",
              "    </g>\n",
              "</svg>\n",
              "  </button>\n",
              "\n",
              "<style>\n",
              "  .colab-df-quickchart {\n",
              "      --bg-color: #E8F0FE;\n",
              "      --fill-color: #1967D2;\n",
              "      --hover-bg-color: #E2EBFA;\n",
              "      --hover-fill-color: #174EA6;\n",
              "      --disabled-fill-color: #AAA;\n",
              "      --disabled-bg-color: #DDD;\n",
              "  }\n",
              "\n",
              "  [theme=dark] .colab-df-quickchart {\n",
              "      --bg-color: #3B4455;\n",
              "      --fill-color: #D2E3FC;\n",
              "      --hover-bg-color: #434B5C;\n",
              "      --hover-fill-color: #FFFFFF;\n",
              "      --disabled-bg-color: #3B4455;\n",
              "      --disabled-fill-color: #666;\n",
              "  }\n",
              "\n",
              "  .colab-df-quickchart {\n",
              "    background-color: var(--bg-color);\n",
              "    border: none;\n",
              "    border-radius: 50%;\n",
              "    cursor: pointer;\n",
              "    display: none;\n",
              "    fill: var(--fill-color);\n",
              "    height: 32px;\n",
              "    padding: 0;\n",
              "    width: 32px;\n",
              "  }\n",
              "\n",
              "  .colab-df-quickchart:hover {\n",
              "    background-color: var(--hover-bg-color);\n",
              "    box-shadow: 0 1px 2px rgba(60, 64, 67, 0.3), 0 1px 3px 1px rgba(60, 64, 67, 0.15);\n",
              "    fill: var(--button-hover-fill-color);\n",
              "  }\n",
              "\n",
              "  .colab-df-quickchart-complete:disabled,\n",
              "  .colab-df-quickchart-complete:disabled:hover {\n",
              "    background-color: var(--disabled-bg-color);\n",
              "    fill: var(--disabled-fill-color);\n",
              "    box-shadow: none;\n",
              "  }\n",
              "\n",
              "  .colab-df-spinner {\n",
              "    border: 2px solid var(--fill-color);\n",
              "    border-color: transparent;\n",
              "    border-bottom-color: var(--fill-color);\n",
              "    animation:\n",
              "      spin 1s steps(1) infinite;\n",
              "  }\n",
              "\n",
              "  @keyframes spin {\n",
              "    0% {\n",
              "      border-color: transparent;\n",
              "      border-bottom-color: var(--fill-color);\n",
              "      border-left-color: var(--fill-color);\n",
              "    }\n",
              "    20% {\n",
              "      border-color: transparent;\n",
              "      border-left-color: var(--fill-color);\n",
              "      border-top-color: var(--fill-color);\n",
              "    }\n",
              "    30% {\n",
              "      border-color: transparent;\n",
              "      border-left-color: var(--fill-color);\n",
              "      border-top-color: var(--fill-color);\n",
              "      border-right-color: var(--fill-color);\n",
              "    }\n",
              "    40% {\n",
              "      border-color: transparent;\n",
              "      border-right-color: var(--fill-color);\n",
              "      border-top-color: var(--fill-color);\n",
              "    }\n",
              "    60% {\n",
              "      border-color: transparent;\n",
              "      border-right-color: var(--fill-color);\n",
              "    }\n",
              "    80% {\n",
              "      border-color: transparent;\n",
              "      border-right-color: var(--fill-color);\n",
              "      border-bottom-color: var(--fill-color);\n",
              "    }\n",
              "    90% {\n",
              "      border-color: transparent;\n",
              "      border-bottom-color: var(--fill-color);\n",
              "    }\n",
              "  }\n",
              "</style>\n",
              "\n",
              "  <script>\n",
              "    async function quickchart(key) {\n",
              "      const quickchartButtonEl =\n",
              "        document.querySelector('#' + key + ' button');\n",
              "      quickchartButtonEl.disabled = true;  // To prevent multiple clicks.\n",
              "      quickchartButtonEl.classList.add('colab-df-spinner');\n",
              "      try {\n",
              "        const charts = await google.colab.kernel.invokeFunction(\n",
              "            'suggestCharts', [key], {});\n",
              "      } catch (error) {\n",
              "        console.error('Error during call to suggestCharts:', error);\n",
              "      }\n",
              "      quickchartButtonEl.classList.remove('colab-df-spinner');\n",
              "      quickchartButtonEl.classList.add('colab-df-quickchart-complete');\n",
              "    }\n",
              "    (() => {\n",
              "      let quickchartButtonEl =\n",
              "        document.querySelector('#df-8b2e6057-e83c-4df1-8eb1-ee263cc2fbe5 button');\n",
              "      quickchartButtonEl.style.display =\n",
              "        google.colab.kernel.accessAllowed ? 'block' : 'none';\n",
              "    })();\n",
              "  </script>\n",
              "</div>\n",
              "\n",
              "    </div>\n",
              "  </div>\n"
            ],
            "text/plain": [
              "          att1      att2      att3      att4      att5      att6      att7  \\\n",
              "1501  1.469756 -1.048520 -3.394356 -4.254399 -4.162834 -3.822570 -3.003609   \n",
              "2586 -1.998602 -3.770552 -4.267091 -4.256133 -3.515288 -2.554540 -1.699639   \n",
              "2653 -1.187772 -3.365038 -3.695653 -4.094781 -3.992549 -3.425381 -2.057643   \n",
              "1055  0.604969 -1.671363 -3.236131 -3.966465 -4.067820 -3.551897 -2.582864   \n",
              "705  -1.197203 -3.270123 -3.778723 -3.977574 -3.405060 -2.392634 -1.726322   \n",
              "\n",
              "          att8      att9     att10  ...    att132    att133    att134  \\\n",
              "1501 -1.799773 -1.500033 -1.025095  ...  0.945178  1.275588  1.617218   \n",
              "2586 -1.566366 -1.038815 -0.425483  ...  1.008577  1.024698  1.051141   \n",
              "2653 -1.277729 -1.307397 -0.623098  ...  1.085007  1.467196  1.413850   \n",
              "1055 -1.804755 -1.688151 -1.025897  ...  0.545222  0.649363  0.986846   \n",
              "705  -1.572748 -0.920075 -0.388731  ...  0.828168  0.914338  1.063077   \n",
              "\n",
              "        att135    att136    att137    att138    att139    att140  target  \n",
              "1501  1.580279  1.306195  1.351674  1.915517  1.672103 -1.039932    b'1'  \n",
              "2586  1.015352  0.988475  1.050191  1.089509  1.465382  0.799517    b'1'  \n",
              "2653  1.283822  0.923126  0.759235  0.932364  1.216265 -0.824489    b'1'  \n",
              "1055  1.234495  1.280039  1.215985  1.617971  2.196543  0.023843    b'1'  \n",
              "705   1.393479  1.469756  1.392281  1.144732  1.668263  1.734676    b'1'  \n",
              "\n",
              "[5 rows x 141 columns]"
            ]
          },
          "execution_count": 14,
          "metadata": {},
          "output_type": "execute_result"
        }
      ],
      "source": [
        "df.head()"
      ]
    },
    {
      "cell_type": "markdown",
      "metadata": {
        "id": "dGlXGhH8cVqO"
      },
      "source": [
        "name of the classes"
      ]
    },
    {
      "cell_type": "code",
      "execution_count": null,
      "metadata": {
        "id": "VTKRWz9ycNNa"
      },
      "outputs": [],
      "source": [
        "CLASS_NORMAL = 1\n",
        "\n",
        "class_names = ['Normal','R on T','PVC','SP','UB']"
      ]
    },
    {
      "cell_type": "code",
      "execution_count": null,
      "metadata": {
        "id": "Qs4---DPccvO"
      },
      "outputs": [],
      "source": [
        "new_columns = list(df.columns)\n",
        "new_columns[-1] = 'target'\n",
        "df.columns = new_columns"
      ]
    },
    {
      "cell_type": "code",
      "execution_count": null,
      "metadata": {
        "colab": {
          "base_uri": "https://localhost:8080/",
          "height": 272
        },
        "id": "MyTeqvvvcwiu",
        "outputId": "73594787-aa7b-4dd9-abd4-31ea72888fee"
      },
      "outputs": [
        {
          "data": {
            "text/html": [
              "<div>\n",
              "<style scoped>\n",
              "    .dataframe tbody tr th:only-of-type {\n",
              "        vertical-align: middle;\n",
              "    }\n",
              "\n",
              "    .dataframe tbody tr th {\n",
              "        vertical-align: top;\n",
              "    }\n",
              "\n",
              "    .dataframe thead th {\n",
              "        text-align: right;\n",
              "    }\n",
              "</style>\n",
              "<table border=\"1\" class=\"dataframe\">\n",
              "  <thead>\n",
              "    <tr style=\"text-align: right;\">\n",
              "      <th></th>\n",
              "      <th>count</th>\n",
              "    </tr>\n",
              "    <tr>\n",
              "      <th>target</th>\n",
              "      <th></th>\n",
              "    </tr>\n",
              "  </thead>\n",
              "  <tbody>\n",
              "    <tr>\n",
              "      <th>b'1'</th>\n",
              "      <td>2919</td>\n",
              "    </tr>\n",
              "    <tr>\n",
              "      <th>b'2'</th>\n",
              "      <td>1767</td>\n",
              "    </tr>\n",
              "    <tr>\n",
              "      <th>b'4'</th>\n",
              "      <td>194</td>\n",
              "    </tr>\n",
              "    <tr>\n",
              "      <th>b'3'</th>\n",
              "      <td>96</td>\n",
              "    </tr>\n",
              "    <tr>\n",
              "      <th>b'5'</th>\n",
              "      <td>24</td>\n",
              "    </tr>\n",
              "  </tbody>\n",
              "</table>\n",
              "</div><br><label><b>dtype:</b> int64</label>"
            ],
            "text/plain": [
              "target\n",
              "b'1'    2919\n",
              "b'2'    1767\n",
              "b'4'     194\n",
              "b'3'      96\n",
              "b'5'      24\n",
              "Name: count, dtype: int64"
            ]
          },
          "execution_count": 17,
          "metadata": {},
          "output_type": "execute_result"
        }
      ],
      "source": [
        "df.target.value_counts()"
      ]
    },
    {
      "cell_type": "code",
      "execution_count": null,
      "metadata": {
        "id": "zXtlgrCAc0DV"
      },
      "outputs": [],
      "source": [
        "df['target'] = df['target'].astype(int)"
      ]
    },
    {
      "cell_type": "markdown",
      "metadata": {
        "id": "X8lY3BEKeA-Y"
      },
      "source": [
        "Analyse"
      ]
    },
    {
      "cell_type": "code",
      "execution_count": null,
      "metadata": {
        "colab": {
          "base_uri": "https://localhost:8080/",
          "height": 272
        },
        "id": "q1SfHb4tdy82",
        "outputId": "6ed12a4f-3dea-4f1e-e4d1-845d56bda78c"
      },
      "outputs": [
        {
          "data": {
            "text/html": [
              "<div>\n",
              "<style scoped>\n",
              "    .dataframe tbody tr th:only-of-type {\n",
              "        vertical-align: middle;\n",
              "    }\n",
              "\n",
              "    .dataframe tbody tr th {\n",
              "        vertical-align: top;\n",
              "    }\n",
              "\n",
              "    .dataframe thead th {\n",
              "        text-align: right;\n",
              "    }\n",
              "</style>\n",
              "<table border=\"1\" class=\"dataframe\">\n",
              "  <thead>\n",
              "    <tr style=\"text-align: right;\">\n",
              "      <th></th>\n",
              "      <th>count</th>\n",
              "    </tr>\n",
              "    <tr>\n",
              "      <th>target</th>\n",
              "      <th></th>\n",
              "    </tr>\n",
              "  </thead>\n",
              "  <tbody>\n",
              "    <tr>\n",
              "      <th>1</th>\n",
              "      <td>2919</td>\n",
              "    </tr>\n",
              "    <tr>\n",
              "      <th>2</th>\n",
              "      <td>1767</td>\n",
              "    </tr>\n",
              "    <tr>\n",
              "      <th>4</th>\n",
              "      <td>194</td>\n",
              "    </tr>\n",
              "    <tr>\n",
              "      <th>3</th>\n",
              "      <td>96</td>\n",
              "    </tr>\n",
              "    <tr>\n",
              "      <th>5</th>\n",
              "      <td>24</td>\n",
              "    </tr>\n",
              "  </tbody>\n",
              "</table>\n",
              "</div><br><label><b>dtype:</b> int64</label>"
            ],
            "text/plain": [
              "target\n",
              "1    2919\n",
              "2    1767\n",
              "4     194\n",
              "3      96\n",
              "5      24\n",
              "Name: count, dtype: int64"
            ]
          },
          "execution_count": 19,
          "metadata": {},
          "output_type": "execute_result"
        }
      ],
      "source": [
        "df.target.value_counts()"
      ]
    },
    {
      "cell_type": "code",
      "execution_count": null,
      "metadata": {
        "colab": {
          "base_uri": "https://localhost:8080/",
          "height": 503
        },
        "id": "Mzt9lG9hd0mq",
        "outputId": "070568c1-58b4-4164-eaa4-7ddba8ef6117"
      },
      "outputs": [
        {
          "data": {
            "image/png": "[encoded data removed]",
            "text/plain": [
              "<Figure size 700x500 with 1 Axes>"
            ]
          },
          "metadata": {
            "image/png": {
              "height": 486,
              "width": 647
            }
          },
          "output_type": "display_data"
        }
      ],
      "source": [
        "target_counts = pd.Series([2919, 1767, 96, 194, 24], index=['Normal','R on T','PVC','SP','UB'])\n",
        "plt.figure(figsize=(7, 5))\n",
        "# Plot the data\n",
        "ax = sns.barplot(x=target_counts.index, y=target_counts.values)\n",
        "\n",
        "# Set axis labels and title\n",
        "ax.set_xlabel('Target Class')\n",
        "ax.set_ylabel('Count')\n",
        "ax.set_title('Class Distribution')\n",
        "\n",
        "# Show the plot\n",
        "plt.show()"
      ]
    },
    {
      "cell_type": "code",
      "execution_count": null,
      "metadata": {
        "colab": {
          "base_uri": "https://localhost:8080/",
          "height": 443
        },
        "id": "By_QaI5leF2N",
        "outputId": "89bf38d7-7911-4bff-ccc3-8e411e610129"
      },
      "outputs": [
        {
          "data": {
            "application/vnd.google.colaboratory.intrinsic+json": {
              "type": "dataframe",
              "variable_name": "df"
            },
            "text/html": [
              "\n",
              "  <div id=\"df-7deb4d76-4c06-452d-9680-34f846f50b28\" class=\"colab-df-container\">\n",
              "    <div>\n",
              "<style scoped>\n",
              "    .dataframe tbody tr th:only-of-type {\n",
              "        vertical-align: middle;\n",
              "    }\n",
              "\n",
              "    .dataframe tbody tr th {\n",
              "        vertical-align: top;\n",
              "    }\n",
              "\n",
              "    .dataframe thead th {\n",
              "        text-align: right;\n",
              "    }\n",
              "</style>\n",
              "<table border=\"1\" class=\"dataframe\">\n",
              "  <thead>\n",
              "    <tr style=\"text-align: right;\">\n",
              "      <th></th>\n",
              "      <th>att1</th>\n",
              "      <th>att2</th>\n",
              "      <th>att3</th>\n",
              "      <th>att4</th>\n",
              "      <th>att5</th>\n",
              "      <th>att6</th>\n",
              "      <th>att7</th>\n",
              "      <th>att8</th>\n",
              "      <th>att9</th>\n",
              "      <th>att10</th>\n",
              "      <th>...</th>\n",
              "      <th>att132</th>\n",
              "      <th>att133</th>\n",
              "      <th>att134</th>\n",
              "      <th>att135</th>\n",
              "      <th>att136</th>\n",
              "      <th>att137</th>\n",
              "      <th>att138</th>\n",
              "      <th>att139</th>\n",
              "      <th>att140</th>\n",
              "      <th>target</th>\n",
              "    </tr>\n",
              "  </thead>\n",
              "  <tbody>\n",
              "    <tr>\n",
              "      <th>1501</th>\n",
              "      <td>1.469756</td>\n",
              "      <td>-1.048520</td>\n",
              "      <td>-3.394356</td>\n",
              "      <td>-4.254399</td>\n",
              "      <td>-4.162834</td>\n",
              "      <td>-3.822570</td>\n",
              "      <td>-3.003609</td>\n",
              "      <td>-1.799773</td>\n",
              "      <td>-1.500033</td>\n",
              "      <td>-1.025095</td>\n",
              "      <td>...</td>\n",
              "      <td>0.945178</td>\n",
              "      <td>1.275588</td>\n",
              "      <td>1.617218</td>\n",
              "      <td>1.580279</td>\n",
              "      <td>1.306195</td>\n",
              "      <td>1.351674</td>\n",
              "      <td>1.915517</td>\n",
              "      <td>1.672103</td>\n",
              "      <td>-1.039932</td>\n",
              "      <td>1</td>\n",
              "    </tr>\n",
              "    <tr>\n",
              "      <th>2586</th>\n",
              "      <td>-1.998602</td>\n",
              "      <td>-3.770552</td>\n",
              "      <td>-4.267091</td>\n",
              "      <td>-4.256133</td>\n",
              "      <td>-3.515288</td>\n",
              "      <td>-2.554540</td>\n",
              "      <td>-1.699639</td>\n",
              "      <td>-1.566366</td>\n",
              "      <td>-1.038815</td>\n",
              "      <td>-0.425483</td>\n",
              "      <td>...</td>\n",
              "      <td>1.008577</td>\n",
              "      <td>1.024698</td>\n",
              "      <td>1.051141</td>\n",
              "      <td>1.015352</td>\n",
              "      <td>0.988475</td>\n",
              "      <td>1.050191</td>\n",
              "      <td>1.089509</td>\n",
              "      <td>1.465382</td>\n",
              "      <td>0.799517</td>\n",
              "      <td>1</td>\n",
              "    </tr>\n",
              "    <tr>\n",
              "      <th>2653</th>\n",
              "      <td>-1.187772</td>\n",
              "      <td>-3.365038</td>\n",
              "      <td>-3.695653</td>\n",
              "      <td>-4.094781</td>\n",
              "      <td>-3.992549</td>\n",
              "      <td>-3.425381</td>\n",
              "      <td>-2.057643</td>\n",
              "      <td>-1.277729</td>\n",
              "      <td>-1.307397</td>\n",
              "      <td>-0.623098</td>\n",
              "      <td>...</td>\n",
              "      <td>1.085007</td>\n",
              "      <td>1.467196</td>\n",
              "      <td>1.413850</td>\n",
              "      <td>1.283822</td>\n",
              "      <td>0.923126</td>\n",
              "      <td>0.759235</td>\n",
              "      <td>0.932364</td>\n",
              "      <td>1.216265</td>\n",
              "      <td>-0.824489</td>\n",
              "      <td>1</td>\n",
              "    </tr>\n",
              "    <tr>\n",
              "      <th>1055</th>\n",
              "      <td>0.604969</td>\n",
              "      <td>-1.671363</td>\n",
              "      <td>-3.236131</td>\n",
              "      <td>-3.966465</td>\n",
              "      <td>-4.067820</td>\n",
              "      <td>-3.551897</td>\n",
              "      <td>-2.582864</td>\n",
              "      <td>-1.804755</td>\n",
              "      <td>-1.688151</td>\n",
              "      <td>-1.025897</td>\n",
              "      <td>...</td>\n",
              "      <td>0.545222</td>\n",
              "      <td>0.649363</td>\n",
              "      <td>0.986846</td>\n",
              "      <td>1.234495</td>\n",
              "      <td>1.280039</td>\n",
              "      <td>1.215985</td>\n",
              "      <td>1.617971</td>\n",
              "      <td>2.196543</td>\n",
              "      <td>0.023843</td>\n",
              "      <td>1</td>\n",
              "    </tr>\n",
              "    <tr>\n",
              "      <th>705</th>\n",
              "      <td>-1.197203</td>\n",
              "      <td>-3.270123</td>\n",
              "      <td>-3.778723</td>\n",
              "      <td>-3.977574</td>\n",
              "      <td>-3.405060</td>\n",
              "      <td>-2.392634</td>\n",
              "      <td>-1.726322</td>\n",
              "      <td>-1.572748</td>\n",
              "      <td>-0.920075</td>\n",
              "      <td>-0.388731</td>\n",
              "      <td>...</td>\n",
              "      <td>0.828168</td>\n",
              "      <td>0.914338</td>\n",
              "      <td>1.063077</td>\n",
              "      <td>1.393479</td>\n",
              "      <td>1.469756</td>\n",
              "      <td>1.392281</td>\n",
              "      <td>1.144732</td>\n",
              "      <td>1.668263</td>\n",
              "      <td>1.734676</td>\n",
              "      <td>1</td>\n",
              "    </tr>\n",
              "    <tr>\n",
              "      <th>...</th>\n",
              "      <td>...</td>\n",
              "      <td>...</td>\n",
              "      <td>...</td>\n",
              "      <td>...</td>\n",
              "      <td>...</td>\n",
              "      <td>...</td>\n",
              "      <td>...</td>\n",
              "      <td>...</td>\n",
              "      <td>...</td>\n",
              "      <td>...</td>\n",
              "      <td>...</td>\n",
              "      <td>...</td>\n",
              "      <td>...</td>\n",
              "      <td>...</td>\n",
              "      <td>...</td>\n",
              "      <td>...</td>\n",
              "      <td>...</td>\n",
              "      <td>...</td>\n",
              "      <td>...</td>\n",
              "      <td>...</td>\n",
              "      <td>...</td>\n",
              "    </tr>\n",
              "    <tr>\n",
              "      <th>4426</th>\n",
              "      <td>-0.248881</td>\n",
              "      <td>-1.346474</td>\n",
              "      <td>-1.855199</td>\n",
              "      <td>-2.519039</td>\n",
              "      <td>-2.947360</td>\n",
              "      <td>-3.233288</td>\n",
              "      <td>-3.087431</td>\n",
              "      <td>-2.668242</td>\n",
              "      <td>-1.970671</td>\n",
              "      <td>-1.390033</td>\n",
              "      <td>...</td>\n",
              "      <td>-1.157266</td>\n",
              "      <td>-1.605818</td>\n",
              "      <td>-2.286109</td>\n",
              "      <td>-3.247334</td>\n",
              "      <td>-3.551343</td>\n",
              "      <td>-3.426098</td>\n",
              "      <td>-2.171479</td>\n",
              "      <td>-1.380595</td>\n",
              "      <td>-0.378163</td>\n",
              "      <td>2</td>\n",
              "    </tr>\n",
              "    <tr>\n",
              "      <th>466</th>\n",
              "      <td>-0.287286</td>\n",
              "      <td>-1.199089</td>\n",
              "      <td>-1.563916</td>\n",
              "      <td>-2.078314</td>\n",
              "      <td>-2.456073</td>\n",
              "      <td>-2.508211</td>\n",
              "      <td>-2.465002</td>\n",
              "      <td>-2.445333</td>\n",
              "      <td>-2.320656</td>\n",
              "      <td>-1.995150</td>\n",
              "      <td>...</td>\n",
              "      <td>-2.061417</td>\n",
              "      <td>-2.679767</td>\n",
              "      <td>-3.228270</td>\n",
              "      <td>-3.584828</td>\n",
              "      <td>-3.629377</td>\n",
              "      <td>-3.000843</td>\n",
              "      <td>-2.079477</td>\n",
              "      <td>-1.307187</td>\n",
              "      <td>0.075742</td>\n",
              "      <td>2</td>\n",
              "    </tr>\n",
              "    <tr>\n",
              "      <th>3092</th>\n",
              "      <td>-1.032096</td>\n",
              "      <td>-2.811901</td>\n",
              "      <td>-3.588706</td>\n",
              "      <td>-3.883206</td>\n",
              "      <td>-3.279964</td>\n",
              "      <td>-2.275187</td>\n",
              "      <td>-1.771033</td>\n",
              "      <td>-1.603019</td>\n",
              "      <td>-0.956392</td>\n",
              "      <td>-0.764538</td>\n",
              "      <td>...</td>\n",
              "      <td>1.280471</td>\n",
              "      <td>1.353143</td>\n",
              "      <td>1.526594</td>\n",
              "      <td>1.429218</td>\n",
              "      <td>1.099634</td>\n",
              "      <td>1.245052</td>\n",
              "      <td>1.568047</td>\n",
              "      <td>1.776520</td>\n",
              "      <td>0.750669</td>\n",
              "      <td>1</td>\n",
              "    </tr>\n",
              "    <tr>\n",
              "      <th>3772</th>\n",
              "      <td>-1.592541</td>\n",
              "      <td>-2.461370</td>\n",
              "      <td>-2.524132</td>\n",
              "      <td>-3.062815</td>\n",
              "      <td>-2.968224</td>\n",
              "      <td>-2.784655</td>\n",
              "      <td>-2.738399</td>\n",
              "      <td>-2.431311</td>\n",
              "      <td>-2.063169</td>\n",
              "      <td>-1.555809</td>\n",
              "      <td>...</td>\n",
              "      <td>-2.179744</td>\n",
              "      <td>-2.624303</td>\n",
              "      <td>-3.107874</td>\n",
              "      <td>-3.102964</td>\n",
              "      <td>-2.746384</td>\n",
              "      <td>-1.972664</td>\n",
              "      <td>-1.077676</td>\n",
              "      <td>-0.707541</td>\n",
              "      <td>0.354016</td>\n",
              "      <td>2</td>\n",
              "    </tr>\n",
              "    <tr>\n",
              "      <th>860</th>\n",
              "      <td>-1.945586</td>\n",
              "      <td>-3.840519</td>\n",
              "      <td>-3.994683</td>\n",
              "      <td>-4.075513</td>\n",
              "      <td>-3.825354</td>\n",
              "      <td>-2.707352</td>\n",
              "      <td>-1.890840</td>\n",
              "      <td>-1.637062</td>\n",
              "      <td>-0.890024</td>\n",
              "      <td>-0.197107</td>\n",
              "      <td>...</td>\n",
              "      <td>1.293377</td>\n",
              "      <td>1.610488</td>\n",
              "      <td>1.860587</td>\n",
              "      <td>1.655369</td>\n",
              "      <td>0.920235</td>\n",
              "      <td>0.632554</td>\n",
              "      <td>0.951979</td>\n",
              "      <td>0.883145</td>\n",
              "      <td>-1.366044</td>\n",
              "      <td>1</td>\n",
              "    </tr>\n",
              "  </tbody>\n",
              "</table>\n",
              "<p>5000 rows × 141 columns</p>\n",
              "</div>\n",
              "    <div class=\"colab-df-buttons\">\n",
              "\n",
              "  <div class=\"colab-df-container\">\n",
              "    <button class=\"colab-df-convert\" onclick=\"convertToInteractive('df-7deb4d76-4c06-452d-9680-34f846f50b28')\"\n",
              "            title=\"Convert this dataframe to an interactive table.\"\n",
              "            style=\"display:none;\">\n",
              "\n",
              "  <svg xmlns=\"http://www.w3.org/2000/svg\" height=\"24px\" viewBox=\"0 -960 960 960\">\n",
              "    <path d=\"M120-120v-720h720v720H120Zm60-500h600v-160H180v160Zm220 220h160v-160H400v160Zm0 220h160v-160H400v160ZM180-400h160v-160H180v160Zm440 0h160v-160H620v160ZM180-180h160v-160H180v160Zm440 0h160v-160H620v160Z\"/>\n",
              "  </svg>\n",
              "    </button>\n",
              "\n",
              "  <style>\n",
              "    .colab-df-container {\n",
              "      display:flex;\n",
              "      gap: 12px;\n",
              "    }\n",
              "\n",
              "    .colab-df-convert {\n",
              "      background-color: #E8F0FE;\n",
              "      border: none;\n",
              "      border-radius: 50%;\n",
              "      cursor: pointer;\n",
              "      display: none;\n",
              "      fill: #1967D2;\n",
              "      height: 32px;\n",
              "      padding: 0 0 0 0;\n",
              "      width: 32px;\n",
              "    }\n",
              "\n",
              "    .colab-df-convert:hover {\n",
              "      background-color: #E2EBFA;\n",
              "      box-shadow: 0px 1px 2px rgba(60, 64, 67, 0.3), 0px 1px 3px 1px rgba(60, 64, 67, 0.15);\n",
              "      fill: #174EA6;\n",
              "    }\n",
              "\n",
              "    .colab-df-buttons div {\n",
              "      margin-bottom: 4px;\n",
              "    }\n",
              "\n",
              "    [theme=dark] .colab-df-convert {\n",
              "      background-color: #3B4455;\n",
              "      fill: #D2E3FC;\n",
              "    }\n",
              "\n",
              "    [theme=dark] .colab-df-convert:hover {\n",
              "      background-color: #434B5C;\n",
              "      box-shadow: 0px 1px 3px 1px rgba(0, 0, 0, 0.15);\n",
              "      filter: drop-shadow(0px 1px 2px rgba(0, 0, 0, 0.3));\n",
              "      fill: #FFFFFF;\n",
              "    }\n",
              "  </style>\n",
              "\n",
              "    <script>\n",
              "      const buttonEl =\n",
              "        document.querySelector('#df-7deb4d76-4c06-452d-9680-34f846f50b28 button.colab-df-convert');\n",
              "      buttonEl.style.display =\n",
              "        google.colab.kernel.accessAllowed ? 'block' : 'none';\n",
              "\n",
              "      async function convertToInteractive(key) {\n",
              "        const element = document.querySelector('#df-7deb4d76-4c06-452d-9680-34f846f50b28');\n",
              "        const dataTable =\n",
              "          await google.colab.kernel.invokeFunction('convertToInteractive',\n",
              "                                                    [key], {});\n",
              "        if (!dataTable) return;\n",
              "\n",
              "        const docLinkHtml = 'Like what you see? Visit the ' +\n",
              "          '<a target=\"_blank\" href=https://colab.research.google.com/notebooks/data_table.ipynb>data table notebook</a>'\n",
              "          + ' to learn more about interactive tables.';\n",
              "        element.innerHTML = '';\n",
              "        dataTable['output_type'] = 'display_data';\n",
              "        await google.colab.output.renderOutput(dataTable, element);\n",
              "        const docLink = document.createElement('div');\n",
              "        docLink.innerHTML = docLinkHtml;\n",
              "        element.appendChild(docLink);\n",
              "      }\n",
              "    </script>\n",
              "  </div>\n",
              "\n",
              "\n",
              "<div id=\"df-cf39d123-a9f3-45be-88e1-ea2fd9b2ae3a\">\n",
              "  <button class=\"colab-df-quickchart\" onclick=\"quickchart('df-cf39d123-a9f3-45be-88e1-ea2fd9b2ae3a')\"\n",
              "            title=\"Suggest charts\"\n",
              "            style=\"display:none;\">\n",
              "\n",
              "<svg xmlns=\"http://www.w3.org/2000/svg\" height=\"24px\"viewBox=\"0 0 24 24\"\n",
              "     width=\"24px\">\n",
              "    <g>\n",
              "        <path d=\"M19 3H5c-1.1 0-2 .9-2 2v14c0 1.1.9 2 2 2h14c1.1 0 2-.9 2-2V5c0-1.1-.9-2-2-2zM9 17H7v-7h2v7zm4 0h-2V7h2v10zm4 0h-2v-4h2v4z\"/>\n",
              "    </g>\n",
              "</svg>\n",
              "  </button>\n",
              "\n",
              "<style>\n",
              "  .colab-df-quickchart {\n",
              "      --bg-color: #E8F0FE;\n",
              "      --fill-color: #1967D2;\n",
              "      --hover-bg-color: #E2EBFA;\n",
              "      --hover-fill-color: #174EA6;\n",
              "      --disabled-fill-color: #AAA;\n",
              "      --disabled-bg-color: #DDD;\n",
              "  }\n",
              "\n",
              "  [theme=dark] .colab-df-quickchart {\n",
              "      --bg-color: #3B4455;\n",
              "      --fill-color: #D2E3FC;\n",
              "      --hover-bg-color: #434B5C;\n",
              "      --hover-fill-color: #FFFFFF;\n",
              "      --disabled-bg-color: #3B4455;\n",
              "      --disabled-fill-color: #666;\n",
              "  }\n",
              "\n",
              "  .colab-df-quickchart {\n",
              "    background-color: var(--bg-color);\n",
              "    border: none;\n",
              "    border-radius: 50%;\n",
              "    cursor: pointer;\n",
              "    display: none;\n",
              "    fill: var(--fill-color);\n",
              "    height: 32px;\n",
              "    padding: 0;\n",
              "    width: 32px;\n",
              "  }\n",
              "\n",
              "  .colab-df-quickchart:hover {\n",
              "    background-color: var(--hover-bg-color);\n",
              "    box-shadow: 0 1px 2px rgba(60, 64, 67, 0.3), 0 1px 3px 1px rgba(60, 64, 67, 0.15);\n",
              "    fill: var(--button-hover-fill-color);\n",
              "  }\n",
              "\n",
              "  .colab-df-quickchart-complete:disabled,\n",
              "  .colab-df-quickchart-complete:disabled:hover {\n",
              "    background-color: var(--disabled-bg-color);\n",
              "    fill: var(--disabled-fill-color);\n",
              "    box-shadow: none;\n",
              "  }\n",
              "\n",
              "  .colab-df-spinner {\n",
              "    border: 2px solid var(--fill-color);\n",
              "    border-color: transparent;\n",
              "    border-bottom-color: var(--fill-color);\n",
              "    animation:\n",
              "      spin 1s steps(1) infinite;\n",
              "  }\n",
              "\n",
              "  @keyframes spin {\n",
              "    0% {\n",
              "      border-color: transparent;\n",
              "      border-bottom-color: var(--fill-color);\n",
              "      border-left-color: var(--fill-color);\n",
              "    }\n",
              "    20% {\n",
              "      border-color: transparent;\n",
              "      border-left-color: var(--fill-color);\n",
              "      border-top-color: var(--fill-color);\n",
              "    }\n",
              "    30% {\n",
              "      border-color: transparent;\n",
              "      border-left-color: var(--fill-color);\n",
              "      border-top-color: var(--fill-color);\n",
              "      border-right-color: var(--fill-color);\n",
              "    }\n",
              "    40% {\n",
              "      border-color: transparent;\n",
              "      border-right-color: var(--fill-color);\n",
              "      border-top-color: var(--fill-color);\n",
              "    }\n",
              "    60% {\n",
              "      border-color: transparent;\n",
              "      border-right-color: var(--fill-color);\n",
              "    }\n",
              "    80% {\n",
              "      border-color: transparent;\n",
              "      border-right-color: var(--fill-color);\n",
              "      border-bottom-color: var(--fill-color);\n",
              "    }\n",
              "    90% {\n",
              "      border-color: transparent;\n",
              "      border-bottom-color: var(--fill-color);\n",
              "    }\n",
              "  }\n",
              "</style>\n",
              "\n",
              "  <script>\n",
              "    async function quickchart(key) {\n",
              "      const quickchartButtonEl =\n",
              "        document.querySelector('#' + key + ' button');\n",
              "      quickchartButtonEl.disabled = true;  // To prevent multiple clicks.\n",
              "      quickchartButtonEl.classList.add('colab-df-spinner');\n",
              "      try {\n",
              "        const charts = await google.colab.kernel.invokeFunction(\n",
              "            'suggestCharts', [key], {});\n",
              "      } catch (error) {\n",
              "        console.error('Error during call to suggestCharts:', error);\n",
              "      }\n",
              "      quickchartButtonEl.classList.remove('colab-df-spinner');\n",
              "      quickchartButtonEl.classList.add('colab-df-quickchart-complete');\n",
              "    }\n",
              "    (() => {\n",
              "      let quickchartButtonEl =\n",
              "        document.querySelector('#df-cf39d123-a9f3-45be-88e1-ea2fd9b2ae3a button');\n",
              "      quickchartButtonEl.style.display =\n",
              "        google.colab.kernel.accessAllowed ? 'block' : 'none';\n",
              "    })();\n",
              "  </script>\n",
              "</div>\n",
              "\n",
              "  <div id=\"id_98f4eb59-943c-44a2-b573-98823c9a65d8\">\n",
              "    <style>\n",
              "      .colab-df-generate {\n",
              "        background-color: #E8F0FE;\n",
              "        border: none;\n",
              "        border-radius: 50%;\n",
              "        cursor: pointer;\n",
              "        display: none;\n",
              "        fill: #1967D2;\n",
              "        height: 32px;\n",
              "        padding: 0 0 0 0;\n",
              "        width: 32px;\n",
              "      }\n",
              "\n",
              "      .colab-df-generate:hover {\n",
              "        background-color: #E2EBFA;\n",
              "        box-shadow: 0px 1px 2px rgba(60, 64, 67, 0.3), 0px 1px 3px 1px rgba(60, 64, 67, 0.15);\n",
              "        fill: #174EA6;\n",
              "      }\n",
              "\n",
              "      [theme=dark] .colab-df-generate {\n",
              "        background-color: #3B4455;\n",
              "        fill: #D2E3FC;\n",
              "      }\n",
              "\n",
              "      [theme=dark] .colab-df-generate:hover {\n",
              "        background-color: #434B5C;\n",
              "        box-shadow: 0px 1px 3px 1px rgba(0, 0, 0, 0.15);\n",
              "        filter: drop-shadow(0px 1px 2px rgba(0, 0, 0, 0.3));\n",
              "        fill: #FFFFFF;\n",
              "      }\n",
              "    </style>\n",
              "    <button class=\"colab-df-generate\" onclick=\"generateWithVariable('df')\"\n",
              "            title=\"Generate code using this dataframe.\"\n",
              "            style=\"display:none;\">\n",
              "\n",
              "  <svg xmlns=\"http://www.w3.org/2000/svg\" height=\"24px\"viewBox=\"0 0 24 24\"\n",
              "       width=\"24px\">\n",
              "    <path d=\"M7,19H8.4L18.45,9,17,7.55,7,17.6ZM5,21V16.75L18.45,3.32a2,2,0,0,1,2.83,0l1.4,1.43a1.91,1.91,0,0,1,.58,1.4,1.91,1.91,0,0,1-.58,1.4L9.25,21ZM18.45,9,17,7.55Zm-12,3A5.31,5.31,0,0,0,4.9,8.1,5.31,5.31,0,0,0,1,6.5,5.31,5.31,0,0,0,4.9,4.9,5.31,5.31,0,0,0,6.5,1,5.31,5.31,0,0,0,8.1,4.9,5.31,5.31,0,0,0,12,6.5,5.46,5.46,0,0,0,6.5,12Z\"/>\n",
              "  </svg>\n",
              "    </button>\n",
              "    <script>\n",
              "      (() => {\n",
              "      const buttonEl =\n",
              "        document.querySelector('#id_98f4eb59-943c-44a2-b573-98823c9a65d8 button.colab-df-generate');\n",
              "      buttonEl.style.display =\n",
              "        google.colab.kernel.accessAllowed ? 'block' : 'none';\n",
              "\n",
              "      buttonEl.onclick = () => {\n",
              "        google.colab.notebook.generateWithVariable('df');\n",
              "      }\n",
              "      })();\n",
              "    </script>\n",
              "  </div>\n",
              "\n",
              "    </div>\n",
              "  </div>\n"
            ],
            "text/plain": [
              "          att1      att2      att3      att4      att5      att6      att7  \\\n",
              "1501  1.469756 -1.048520 -3.394356 -4.254399 -4.162834 -3.822570 -3.003609   \n",
              "2586 -1.998602 -3.770552 -4.267091 -4.256133 -3.515288 -2.554540 -1.699639   \n",
              "2653 -1.187772 -3.365038 -3.695653 -4.094781 -3.992549 -3.425381 -2.057643   \n",
              "1055  0.604969 -1.671363 -3.236131 -3.966465 -4.067820 -3.551897 -2.582864   \n",
              "705  -1.197203 -3.270123 -3.778723 -3.977574 -3.405060 -2.392634 -1.726322   \n",
              "...        ...       ...       ...       ...       ...       ...       ...   \n",
              "4426 -0.248881 -1.346474 -1.855199 -2.519039 -2.947360 -3.233288 -3.087431   \n",
              "466  -0.287286 -1.199089 -1.563916 -2.078314 -2.456073 -2.508211 -2.465002   \n",
              "3092 -1.032096 -2.811901 -3.588706 -3.883206 -3.279964 -2.275187 -1.771033   \n",
              "3772 -1.592541 -2.461370 -2.524132 -3.062815 -2.968224 -2.784655 -2.738399   \n",
              "860  -1.945586 -3.840519 -3.994683 -4.075513 -3.825354 -2.707352 -1.890840   \n",
              "\n",
              "          att8      att9     att10  ...    att132    att133    att134  \\\n",
              "1501 -1.799773 -1.500033 -1.025095  ...  0.945178  1.275588  1.617218   \n",
              "2586 -1.566366 -1.038815 -0.425483  ...  1.008577  1.024698  1.051141   \n",
              "2653 -1.277729 -1.307397 -0.623098  ...  1.085007  1.467196  1.413850   \n",
              "1055 -1.804755 -1.688151 -1.025897  ...  0.545222  0.649363  0.986846   \n",
              "705  -1.572748 -0.920075 -0.388731  ...  0.828168  0.914338  1.063077   \n",
              "...        ...       ...       ...  ...       ...       ...       ...   \n",
              "4426 -2.668242 -1.970671 -1.390033  ... -1.157266 -1.605818 -2.286109   \n",
              "466  -2.445333 -2.320656 -1.995150  ... -2.061417 -2.679767 -3.228270   \n",
              "3092 -1.603019 -0.956392 -0.764538  ...  1.280471  1.353143  1.526594   \n",
              "3772 -2.431311 -2.063169 -1.555809  ... -2.179744 -2.624303 -3.107874   \n",
              "860  -1.637062 -0.890024 -0.197107  ...  1.293377  1.610488  1.860587   \n",
              "\n",
              "        att135    att136    att137    att138    att139    att140  target  \n",
              "1501  1.580279  1.306195  1.351674  1.915517  1.672103 -1.039932       1  \n",
              "2586  1.015352  0.988475  1.050191  1.089509  1.465382  0.799517       1  \n",
              "2653  1.283822  0.923126  0.759235  0.932364  1.216265 -0.824489       1  \n",
              "1055  1.234495  1.280039  1.215985  1.617971  2.196543  0.023843       1  \n",
              "705   1.393479  1.469756  1.392281  1.144732  1.668263  1.734676       1  \n",
              "...        ...       ...       ...       ...       ...       ...     ...  \n",
              "4426 -3.247334 -3.551343 -3.426098 -2.171479 -1.380595 -0.378163       2  \n",
              "466  -3.584828 -3.629377 -3.000843 -2.079477 -1.307187  0.075742       2  \n",
              "3092  1.429218  1.099634  1.245052  1.568047  1.776520  0.750669       1  \n",
              "3772 -3.102964 -2.746384 -1.972664 -1.077676 -0.707541  0.354016       2  \n",
              "860   1.655369  0.920235  0.632554  0.951979  0.883145 -1.366044       1  \n",
              "\n",
              "[5000 rows x 141 columns]"
            ]
          },
          "execution_count": 32,
          "metadata": {},
          "output_type": "execute_result"
        }
      ],
      "source": [
        "df"
      ]
    },
    {
      "cell_type": "code",
      "execution_count": null,
      "metadata": {
        "id": "RQ0vwG8lf-7c"
      },
      "outputs": [],
      "source": [
        "def plot_time_series_class(data, class_name, ax, n_steps=10):\n",
        "  time_series_df = pd.DataFrame(data)\n",
        "\n",
        "  smooth_path = time_series_df.rolling(n_steps).mean()\n",
        "  path_deviation = 2 * time_series_df.rolling(n_steps).std()\n",
        "\n",
        "  under_line = (smooth_path - path_deviation)[0]\n",
        "  over_line = (smooth_path + path_deviation)[0]\n",
        "\n",
        "  ax.plot(smooth_path, linewidth=2)\n",
        "  ax.fill_between(\n",
        "    path_deviation.index,\n",
        "    under_line,\n",
        "    over_line,\n",
        "    alpha=.125\n",
        "  )\n",
        "  ax.set_title(class_name)"
      ]
    },
    {
      "cell_type": "code",
      "execution_count": null,
      "metadata": {
        "colab": {
          "base_uri": "https://localhost:8080/",
          "height": 494
        },
        "id": "gLG4NSbUiJWV",
        "outputId": "e944af4a-a8b2-4c85-eb05-a7a2d7d43680"
      },
      "outputs": [
        {
          "data": {
            "image/png": "[encoded data removed]",
            "text/plain": [
              "<Figure size 1000x500 with 5 Axes>"
            ]
          },
          "metadata": {
            "image/png": {
              "height": 477,
              "width": 976
            }
          },
          "output_type": "display_data"
        }
      ],
      "source": [
        "classes = df.target.unique()\n",
        "\n",
        "fig, axs = plt.subplots(\n",
        "  nrows=len(classes) // 3 + 1,\n",
        "  ncols=3,\n",
        "  sharey=True,\n",
        "  figsize=(10, 5)\n",
        ")\n",
        "\n",
        "for i, cls in enumerate(classes):\n",
        "  ax = axs.flat[i]\n",
        "  data = df[df.target == cls] \\\n",
        "    .drop(labels='target', axis=1) \\\n",
        "    .mean(axis=0) \\\n",
        "    .to_numpy()\n",
        "  plot_time_series_class(data, class_names[i], ax)\n",
        "\n",
        "fig.delaxes(axs.flat[-1])\n",
        "fig.tight_layout();"
      ]
    },
    {
      "cell_type": "markdown",
      "metadata": {
        "id": "wDVuGXekjzjo"
      },
      "source": [
        "**Data Preprocessing**"
      ]
    },
    {
      "cell_type": "markdown",
      "metadata": {
        "id": "Em6CfTffj8l6"
      },
      "source": [
        "normal heart"
      ]
    },
    {
      "cell_type": "code",
      "execution_count": null,
      "metadata": {
        "colab": {
          "base_uri": "https://localhost:8080/"
        },
        "id": "uCjSjH3kiMtl",
        "outputId": "11d20148-0d9d-40c2-84ea-465bbec9ec42"
      },
      "outputs": [
        {
          "data": {
            "text/plain": [
              "(2919, 140)"
            ]
          },
          "execution_count": 47,
          "metadata": {},
          "output_type": "execute_result"
        }
      ],
      "source": [
        "normal_df = df[df.target == CLASS_NORMAL].drop(labels='target', axis=1)\n",
        "normal_df.shape"
      ]
    },
    {
      "cell_type": "markdown",
      "metadata": {
        "id": "0HMwCNpWj_vI"
      },
      "source": [
        "anomaly heart (other than normal)"
      ]
    },
    {
      "cell_type": "code",
      "execution_count": null,
      "metadata": {
        "colab": {
          "base_uri": "https://localhost:8080/"
        },
        "id": "EIKeF_Bij_Og",
        "outputId": "18a716e9-48db-4762-919d-cacb8e6a88d4"
      },
      "outputs": [
        {
          "data": {
            "text/plain": [
              "(2081, 140)"
            ]
          },
          "execution_count": 48,
          "metadata": {},
          "output_type": "execute_result"
        }
      ],
      "source": [
        "anomaly_df = df[df.target != CLASS_NORMAL].drop(labels='target', axis=1)\n",
        "anomaly_df.shape"
      ]
    },
    {
      "cell_type": "markdown",
      "metadata": {
        "id": "_QA7k4IYkjQg"
      },
      "source": [
        "Spliting normal into training and testing"
      ]
    },
    {
      "cell_type": "code",
      "execution_count": null,
      "metadata": {
        "id": "3rMaj-v5kHh_"
      },
      "outputs": [],
      "source": [
        "train_df, val_df = train_test_split(\n",
        "  normal_df,\n",
        "  test_size=0.15,\n",
        "  random_state=RANDOM_SEED\n",
        ")\n",
        "\n",
        "val_df, test_df = train_test_split(\n",
        "  val_df,\n",
        "  test_size=0.33,\n",
        "  random_state=RANDOM_SEED\n",
        ")"
      ]
    },
    {
      "cell_type": "markdown",
      "metadata": {
        "id": "4lnEWtT6krTu"
      },
      "source": [
        "convert to tensors"
      ]
    },
    {
      "cell_type": "code",
      "execution_count": null,
      "metadata": {
        "id": "itYyeoJmkqcW"
      },
      "outputs": [],
      "source": [
        "def create_dataset(df):\n",
        "\n",
        "  sequences = df.astype(np.float32).to_numpy().tolist()\n",
        "\n",
        "  dataset = [torch.tensor(s).unsqueeze(1).float() for s in sequences]\n",
        "\n",
        "  n_seq, seq_len, n_features = torch.stack(dataset).shape\n",
        "\n",
        "  return dataset, seq_len, n_features"
      ]
    },
    {
      "cell_type": "code",
      "execution_count": null,
      "metadata": {
        "id": "kFVsdAVUkuib"
      },
      "outputs": [],
      "source": [
        "train_dataset, seq_len, n_features = create_dataset(train_df)\n",
        "val_dataset, _, _ = create_dataset(val_df)\n",
        "test_normal_dataset, _, _ = create_dataset(test_df)\n",
        "test_anomaly_dataset, _, _ = create_dataset(anomaly_df)"
      ]
    },
    {
      "cell_type": "markdown",
      "metadata": {
        "id": "SQ9ERY4ek4Wo"
      },
      "source": [
        "***LSTM AUTOENCODER***"
      ]
    },
    {
      "cell_type": "markdown",
      "metadata": {
        "id": "z8Qnd_9dlBVU"
      },
      "source": [
        "Encoder"
      ]
    },
    {
      "cell_type": "code",
      "execution_count": null,
      "metadata": {
        "id": "iGLgwO4okxwJ"
      },
      "outputs": [],
      "source": [
        "class Encoder(nn.Module):\n",
        "\n",
        "  def __init__(self, seq_len, n_features, embedding_dim=64):\n",
        "    super(Encoder, self).__init__()\n",
        "\n",
        "    self.seq_len, self.n_features = seq_len, n_features\n",
        "    self.embedding_dim, self.hidden_dim = embedding_dim, 2 * embedding_dim\n",
        "\n",
        "    self.rnn1 = nn.LSTM(\n",
        "      input_size=n_features,\n",
        "      hidden_size=self.hidden_dim,\n",
        "      num_layers=1,\n",
        "      batch_first=True\n",
        "    )\n",
        "\n",
        "    self.rnn2 = nn.LSTM(\n",
        "      input_size=self.hidden_dim,\n",
        "      hidden_size=embedding_dim,\n",
        "      num_layers=1,\n",
        "      batch_first=True\n",
        "    )\n",
        "\n",
        "  def forward(self, x):\n",
        "    x = x.reshape((1, self.seq_len, self.n_features))\n",
        "\n",
        "    x, (_, _) = self.rnn1(x)\n",
        "    x, (hidden_n, _) = self.rnn2(x)\n",
        "\n",
        "    return hidden_n.reshape((self.n_features, self.embedding_dim))"
      ]
    },
    {
      "cell_type": "markdown",
      "metadata": {
        "id": "Q_gLECnnlDmd"
      },
      "source": [
        "Decoder"
      ]
    },
    {
      "cell_type": "code",
      "execution_count": null,
      "metadata": {
        "id": "orVl6QzxlFA4"
      },
      "outputs": [],
      "source": [
        "class Decoder(nn.Module):\n",
        "\n",
        "  def __init__(self, seq_len, input_dim=64, n_features=1):\n",
        "    super(Decoder, self).__init__()\n",
        "\n",
        "    self.seq_len, self.input_dim = seq_len, input_dim\n",
        "    self.hidden_dim, self.n_features = 2 * input_dim, n_features\n",
        "\n",
        "    self.rnn1 = nn.LSTM(\n",
        "      input_size=input_dim,\n",
        "      hidden_size=input_dim,\n",
        "      num_layers=1,\n",
        "      batch_first=True\n",
        "    )\n",
        "\n",
        "    self.rnn2 = nn.LSTM(\n",
        "      input_size=input_dim,\n",
        "      hidden_size=self.hidden_dim,\n",
        "      num_layers=1,\n",
        "      batch_first=True\n",
        "    )\n",
        "\n",
        "    self.output_layer = nn.Linear(self.hidden_dim, n_features)\n",
        "\n",
        "  def forward(self, x):\n",
        "    x = x.repeat(self.seq_len, self.n_features)\n",
        "    x = x.reshape((self.n_features, self.seq_len, self.input_dim))\n",
        "\n",
        "    x, (hidden_n, cell_n) = self.rnn1(x)\n",
        "    x, (hidden_n, cell_n) = self.rnn2(x)\n",
        "    x = x.reshape((self.seq_len, self.hidden_dim))\n",
        "\n",
        "    return self.output_layer(x)"
      ]
    },
    {
      "cell_type": "markdown",
      "metadata": {
        "id": "o3WzKOKrlL0z"
      },
      "source": [
        "Encoder + Decoder"
      ]
    },
    {
      "cell_type": "code",
      "execution_count": null,
      "metadata": {
        "id": "m5t6P38ClJIM"
      },
      "outputs": [],
      "source": [
        "class RecurrentAutoencoder(nn.Module):\n",
        "\n",
        "  def __init__(self, seq_len, n_features, embedding_dim=64):\n",
        "    super(RecurrentAutoencoder, self).__init__()\n",
        "\n",
        "    self.encoder = Encoder(seq_len, n_features, embedding_dim).to(device)\n",
        "    self.decoder = Decoder(seq_len, embedding_dim, n_features).to(device)\n",
        "\n",
        "  def forward(self, x):\n",
        "    x = self.encoder(x)\n",
        "    x = self.decoder(x)\n",
        "\n",
        "    return x"
      ]
    },
    {
      "cell_type": "code",
      "execution_count": null,
      "metadata": {
        "id": "O7NmHnV-le8r"
      },
      "outputs": [],
      "source": [
        "device = torch.device(\"cuda\" if torch.cuda.is_available() else \"cpu\")"
      ]
    },
    {
      "cell_type": "code",
      "execution_count": null,
      "metadata": {
        "id": "wyvBWQANlQmt"
      },
      "outputs": [],
      "source": [
        "model = RecurrentAutoencoder(seq_len, n_features, 128)\n",
        "model = model.to(device)"
      ]
    },
    {
      "cell_type": "markdown",
      "metadata": {
        "id": "YxwG35VMllsd"
      },
      "source": [
        "**Training**"
      ]
    },
    {
      "cell_type": "code",
      "execution_count": null,
      "metadata": {
        "id": "VWrWsbvqlS4p"
      },
      "outputs": [],
      "source": [
        "def train_model(model, train_dataset, val_dataset, n_epochs):\n",
        "  optimizer = torch.optim.Adam(model.parameters(), lr=1e-3)\n",
        "  criterion = nn.L1Loss(reduction='sum').to(device)\n",
        "  history = dict(train=[], val=[])\n",
        "\n",
        "  best_model_wts = copy.deepcopy(model.state_dict())\n",
        "  best_loss = 10000.0\n",
        "\n",
        "  for epoch in range(1, n_epochs + 1):\n",
        "    model = model.train()\n",
        "\n",
        "    train_losses = []\n",
        "    for seq_true in train_dataset:\n",
        "      optimizer.zero_grad()\n",
        "\n",
        "      seq_true = seq_true.to(device)\n",
        "      seq_pred = model(seq_true)\n",
        "\n",
        "      loss = criterion(seq_pred, seq_true)\n",
        "\n",
        "      loss.backward()\n",
        "      optimizer.step()\n",
        "\n",
        "      train_losses.append(loss.item())\n",
        "\n",
        "    val_losses = []\n",
        "    model = model.eval()\n",
        "    with torch.no_grad():\n",
        "      for seq_true in val_dataset:\n",
        "\n",
        "        seq_true = seq_true.to(device)\n",
        "        seq_pred = model(seq_true)\n",
        "\n",
        "        loss = criterion(seq_pred, seq_true)\n",
        "        val_losses.append(loss.item())\n",
        "\n",
        "    train_loss = np.mean(train_losses)\n",
        "    val_loss = np.mean(val_losses)\n",
        "\n",
        "    history['train'].append(train_loss)\n",
        "    history['val'].append(val_loss)\n",
        "\n",
        "    if val_loss < best_loss:\n",
        "      best_loss = val_loss\n",
        "      best_model_wts = copy.deepcopy(model.state_dict())\n",
        "\n",
        "    print(f'Epoch {epoch}: train loss {train_loss} val loss {val_loss}')\n",
        "\n",
        "  model.load_state_dict(best_model_wts)\n",
        "  return model.eval(), history"
      ]
    },
    {
      "cell_type": "code",
      "execution_count": null,
      "metadata": {
        "colab": {
          "base_uri": "https://localhost:8080/",
          "height": 998
        },
        "id": "qF0JESRQlytH",
        "outputId": "6e42a09b-46a4-4b86-b755-301a8b6378a0"
      },
      "outputs": [
        {
          "name": "stdout",
          "output_type": "stream",
          "text": [
            "Epoch 1: train loss 61.48866381139728 val loss 52.360237447068144\n",
            "Epoch 2: train loss 50.66721345608583 val loss 50.0208387537621\n",
            "Epoch 3: train loss 47.59133414653269 val loss 55.29847908670992\n",
            "Epoch 4: train loss 47.31680482705242 val loss 47.95688682530113\n",
            "Epoch 5: train loss 38.36818158765898 val loss 44.82508150953482\n",
            "Epoch 6: train loss 33.77244986473001 val loss 39.38252052593557\n",
            "Epoch 7: train loss 32.49038794693184 val loss 32.46680645731122\n",
            "Epoch 8: train loss 28.9010768565186 val loss 29.571039811743\n",
            "Epoch 9: train loss 26.80038470483893 val loss 30.900955291331424\n",
            "Epoch 10: train loss 25.992566114853872 val loss 28.424365014346385\n",
            "Epoch 11: train loss 24.639169962451323 val loss 25.26086416993125\n",
            "Epoch 12: train loss 24.39016065824325 val loss 22.51766269605721\n",
            "Epoch 13: train loss 22.671358305328752 val loss 22.020688294550666\n",
            "Epoch 14: train loss 20.735766480402425 val loss 19.778930423202777\n",
            "Epoch 15: train loss 19.10886621974928 val loss 18.4576116600948\n",
            "Epoch 16: train loss 18.075113689356492 val loss 17.866637298271517\n",
            "Epoch 17: train loss 17.381958166181633 val loss 17.245181562143788\n",
            "Epoch 18: train loss 17.234534128305175 val loss 16.349763294128834\n",
            "Epoch 19: train loss 30.210790071214507 val loss 28.552085218982892\n",
            "Epoch 20: train loss 23.736189975607832 val loss 21.118315573031584\n",
            "Epoch 21: train loss 21.22471370681646 val loss 19.701907174172256\n",
            "Epoch 22: train loss 29.027936915436467 val loss 20.57400247098643\n",
            "Epoch 23: train loss 21.03553457732933 val loss 18.847667489035544\n",
            "Epoch 24: train loss 19.898956288065175 val loss 19.111544039469123\n",
            "Epoch 25: train loss 19.3393076416563 val loss 21.15921214823023\n",
            "Epoch 26: train loss 17.63362823595495 val loss 17.935519680635107\n",
            "Epoch 27: train loss 17.058427577535745 val loss 17.58881426345773\n",
            "Epoch 28: train loss 17.081427349096728 val loss 15.058327847373363\n",
            "Epoch 29: train loss 19.88346612784998 val loss 27.67372785574747\n",
            "Epoch 30: train loss 18.31868667863925 val loss 17.235107779909725\n",
            "Epoch 31: train loss 15.89387282687106 val loss 25.406418468358165\n",
            "Epoch 32: train loss 14.742132875526302 val loss 14.400946884025078\n",
            "Epoch 33: train loss 14.206686779262077 val loss 19.138648785015015\n",
            "Epoch 34: train loss 18.021267616859323 val loss 14.266846744680567\n",
            "Epoch 35: train loss 14.11352118653955 val loss 15.164466434778207\n"
          ]
        },
        {
          "ename": "KeyboardInterrupt",
          "evalue": "",
          "output_type": "error",
          "traceback": [
            "\u001b[0;31m---------------------------------------------------------------------------\u001b[0m",
            "\u001b[0;31mKeyboardInterrupt\u001b[0m                         Traceback (most recent call last)",
            "\u001b[0;32m<ipython-input-60-af9a60ee0f5b>\u001b[0m in \u001b[0;36m<cell line: 1>\u001b[0;34m()\u001b[0m\n\u001b[0;32m----> 1\u001b[0;31m model, history = train_model(\n\u001b[0m\u001b[1;32m      2\u001b[0m   \u001b[0mmodel\u001b[0m\u001b[0;34m,\u001b[0m\u001b[0;34m\u001b[0m\u001b[0;34m\u001b[0m\u001b[0m\n\u001b[1;32m      3\u001b[0m   \u001b[0mtrain_dataset\u001b[0m\u001b[0;34m,\u001b[0m\u001b[0;34m\u001b[0m\u001b[0;34m\u001b[0m\u001b[0m\n\u001b[1;32m      4\u001b[0m   \u001b[0mval_dataset\u001b[0m\u001b[0;34m,\u001b[0m\u001b[0;34m\u001b[0m\u001b[0;34m\u001b[0m\u001b[0m\n\u001b[1;32m      5\u001b[0m   \u001b[0mn_epochs\u001b[0m\u001b[0;34m=\u001b[0m\u001b[0;36m150\u001b[0m\u001b[0;34m\u001b[0m\u001b[0;34m\u001b[0m\u001b[0m\n",
            "\u001b[0;32m<ipython-input-59-8a376163fea5>\u001b[0m in \u001b[0;36mtrain_model\u001b[0;34m(model, train_dataset, val_dataset, n_epochs)\u001b[0m\n\u001b[1;32m     19\u001b[0m       \u001b[0mloss\u001b[0m \u001b[0;34m=\u001b[0m \u001b[0mcriterion\u001b[0m\u001b[0;34m(\u001b[0m\u001b[0mseq_pred\u001b[0m\u001b[0;34m,\u001b[0m \u001b[0mseq_true\u001b[0m\u001b[0;34m)\u001b[0m\u001b[0;34m\u001b[0m\u001b[0;34m\u001b[0m\u001b[0m\n\u001b[1;32m     20\u001b[0m \u001b[0;34m\u001b[0m\u001b[0m\n\u001b[0;32m---> 21\u001b[0;31m       \u001b[0mloss\u001b[0m\u001b[0;34m.\u001b[0m\u001b[0mbackward\u001b[0m\u001b[0;34m(\u001b[0m\u001b[0;34m)\u001b[0m\u001b[0;34m\u001b[0m\u001b[0;34m\u001b[0m\u001b[0m\n\u001b[0m\u001b[1;32m     22\u001b[0m       \u001b[0moptimizer\u001b[0m\u001b[0;34m.\u001b[0m\u001b[0mstep\u001b[0m\u001b[0;34m(\u001b[0m\u001b[0;34m)\u001b[0m\u001b[0;34m\u001b[0m\u001b[0;34m\u001b[0m\u001b[0m\n\u001b[1;32m     23\u001b[0m \u001b[0;34m\u001b[0m\u001b[0m\n",
            "\u001b[0;32m/usr/local/lib/python3.10/dist-packages/torch/_tensor.py\u001b[0m in \u001b[0;36mbackward\u001b[0;34m(self, gradient, retain_graph, create_graph, inputs)\u001b[0m\n\u001b[1;32m    519\u001b[0m                 \u001b[0minputs\u001b[0m\u001b[0;34m=\u001b[0m\u001b[0minputs\u001b[0m\u001b[0;34m,\u001b[0m\u001b[0;34m\u001b[0m\u001b[0;34m\u001b[0m\u001b[0m\n\u001b[1;32m    520\u001b[0m             )\n\u001b[0;32m--> 521\u001b[0;31m         torch.autograd.backward(\n\u001b[0m\u001b[1;32m    522\u001b[0m             \u001b[0mself\u001b[0m\u001b[0;34m,\u001b[0m \u001b[0mgradient\u001b[0m\u001b[0;34m,\u001b[0m \u001b[0mretain_graph\u001b[0m\u001b[0;34m,\u001b[0m \u001b[0mcreate_graph\u001b[0m\u001b[0;34m,\u001b[0m \u001b[0minputs\u001b[0m\u001b[0;34m=\u001b[0m\u001b[0minputs\u001b[0m\u001b[0;34m\u001b[0m\u001b[0;34m\u001b[0m\u001b[0m\n\u001b[1;32m    523\u001b[0m         )\n",
            "\u001b[0;32m/usr/local/lib/python3.10/dist-packages/torch/autograd/__init__.py\u001b[0m in \u001b[0;36mbackward\u001b[0;34m(tensors, grad_tensors, retain_graph, create_graph, grad_variables, inputs)\u001b[0m\n\u001b[1;32m    287\u001b[0m     \u001b[0;31m# some Python versions print out the first line of a multi-line function\u001b[0m\u001b[0;34m\u001b[0m\u001b[0;34m\u001b[0m\u001b[0m\n\u001b[1;32m    288\u001b[0m     \u001b[0;31m# calls in the traceback and some print out the last line\u001b[0m\u001b[0;34m\u001b[0m\u001b[0;34m\u001b[0m\u001b[0m\n\u001b[0;32m--> 289\u001b[0;31m     _engine_run_backward(\n\u001b[0m\u001b[1;32m    290\u001b[0m         \u001b[0mtensors\u001b[0m\u001b[0;34m,\u001b[0m\u001b[0;34m\u001b[0m\u001b[0;34m\u001b[0m\u001b[0m\n\u001b[1;32m    291\u001b[0m         \u001b[0mgrad_tensors_\u001b[0m\u001b[0;34m,\u001b[0m\u001b[0;34m\u001b[0m\u001b[0;34m\u001b[0m\u001b[0m\n",
            "\u001b[0;32m/usr/local/lib/python3.10/dist-packages/torch/autograd/graph.py\u001b[0m in \u001b[0;36m_engine_run_backward\u001b[0;34m(t_outputs, *args, **kwargs)\u001b[0m\n\u001b[1;32m    767\u001b[0m         \u001b[0munregister_hooks\u001b[0m \u001b[0;34m=\u001b[0m \u001b[0m_register_logging_hooks_on_whole_graph\u001b[0m\u001b[0;34m(\u001b[0m\u001b[0mt_outputs\u001b[0m\u001b[0;34m)\u001b[0m\u001b[0;34m\u001b[0m\u001b[0;34m\u001b[0m\u001b[0m\n\u001b[1;32m    768\u001b[0m     \u001b[0;32mtry\u001b[0m\u001b[0;34m:\u001b[0m\u001b[0;34m\u001b[0m\u001b[0;34m\u001b[0m\u001b[0m\n\u001b[0;32m--> 769\u001b[0;31m         return Variable._execution_engine.run_backward(  # Calls into the C++ engine to run the backward pass\n\u001b[0m\u001b[1;32m    770\u001b[0m             \u001b[0mt_outputs\u001b[0m\u001b[0;34m,\u001b[0m \u001b[0;34m*\u001b[0m\u001b[0margs\u001b[0m\u001b[0;34m,\u001b[0m \u001b[0;34m**\u001b[0m\u001b[0mkwargs\u001b[0m\u001b[0;34m\u001b[0m\u001b[0;34m\u001b[0m\u001b[0m\n\u001b[1;32m    771\u001b[0m         )  # Calls into the C++ engine to run the backward pass\n",
            "\u001b[0;31mKeyboardInterrupt\u001b[0m: "
          ]
        }
      ],
      "source": [
        "model, history = train_model(\n",
        "  model,\n",
        "  train_dataset,\n",
        "  val_dataset,\n",
        "  n_epochs=150\n",
        ")"
      ]
    },
    {
      "cell_type": "code",
      "execution_count": null,
      "metadata": {
        "id": "u7oTeKOil1_m"
      },
      "outputs": [],
      "source": []
    }
  ],
  "metadata": {
    "accelerator": "GPU",
    "colab": {
      "gpuType": "T4",
      "provenance": []
    },
    "kernelspec": {
      "display_name": "Python 3",
      "name": "python3"
    },
    "language_info": {
      "codemirror_mode": {
        "name": "ipython",
        "version": 3
      },
      "file_extension": ".py",
      "mimetype": "text/x-python",
      "name": "python",
      "nbconvert_exporter": "python",
      "pygments_lexer": "ipython3",
      "version": "3.11.5"
    }
  },
  "nbformat": 4,
  "nbformat_minor": 0
}
